{
 "cells": [
  {
   "cell_type": "markdown",
   "id": "7dbac115",
   "metadata": {},
   "source": [
    "# Sudoku"
   ]
  },
  {
   "cell_type": "code",
   "execution_count": 685,
   "id": "44a10c5b",
   "metadata": {},
   "outputs": [],
   "source": [
    "# Create an empty table\n",
    "\n",
    "from IPython.display import clear_output\n",
    "\n",
    "def display_board(board):\n",
    "    clear_output()\n",
    "\n",
    "    print(' -------------'                                                  '  -------------'                                         '  -------------')\n",
    "    print(' | ' + board[1] + ' | ' + board[2] + ' | ' + board[3] + ' | '' | ' + board[1] + ' | ' + board[2] + ' | ' + board[3] + ' | '' | ' + board[1] + ' | ' + board[2] + ' | ' + board[3] + ' | ')\n",
    "    print(' -------------'                                                  '  -------------'                                         '  -------------')\n",
    "    print(' | ' + board[4] + ' | ' + board[5] + ' | ' + board[6] + ' | '' | ' + board[4] + ' | ' + board[5] + ' | ' + board[6] + ' | '' | ' + board[4] + ' | ' + board[5] + ' | ' + board[6] + ' | ')\n",
    "    print(' -------------'                                                  '  -------------'                                         '  -------------')\n",
    "    print(' | ' + board[7] + ' | ' + board[8] + ' | ' + board[9] + ' | '' | ' + board[7] + ' | ' + board[8] + ' | ' + board[9] + ' | '' | ' + board[7] + ' | ' + board[8] + ' | ' + board[9] + ' | ')\n",
    "    print(' -------------'                                                  '  -------------'                                         '  -------------')\n",
    "    print(' -------------'                                                  '  -------------'                                         '  -------------')\n",
    "    print(' | ' + board[1] + ' | ' + board[2] + ' | ' + board[3] + ' | '' | ' + board[1] + ' | ' + board[2] + ' | ' + board[3] + ' | '' | ' + board[1] + ' | ' + board[2] + ' | ' + board[3] + ' | ')\n",
    "    print(' -------------'                                                  '  -------------'                                         '  -------------')\n",
    "    print(' | ' + board[4] + ' | ' + board[5] + ' | ' + board[6] + ' | '' | ' + board[4] + ' | ' + board[5] + ' | ' + board[6] + ' | '' | ' + board[4] + ' | ' + board[5] + ' | ' + board[6] + ' | ')\n",
    "    print(' -------------'                                                  '  -------------'                                         '  -------------')\n",
    "    print(' | ' + board[7] + ' | ' + board[8] + ' | ' + board[9] + ' | '' | ' + board[7] + ' | ' + board[8] + ' | ' + board[9] + ' | '' | ' + board[7] + ' | ' + board[8] + ' | ' + board[9] + ' | ')\n",
    "    print(' -------------'                                                  '  -------------'                                         '  -------------')\n",
    "    print(' -------------'                                                  '  -------------'                                         '  -------------')\n",
    "    print(' | ' + board[1] + ' | ' + board[2] + ' | ' + board[3] + ' | '' | ' + board[1] + ' | ' + board[2] + ' | ' + board[3] + ' | '' | ' + board[1] + ' | ' + board[2] + ' | ' + board[3] + ' | ')\n",
    "    print(' -------------'                                                  '  -------------'                                         '  -------------')              \n",
    "    print(' | ' + board[4] + ' | ' + board[5] + ' | ' + board[6] + ' | '' | ' + board[4] + ' | ' + board[5] + ' | ' + board[6] + ' | '' | ' + board[4] + ' | ' + board[5] + ' | ' + board[6] + ' | ')\n",
    "    print(' -------------'                                                  '  -------------'                                         '  -------------')\n",
    "    print(' | ' + board[7] + ' | ' + board[8] + ' | ' + board[9] + ' | '' | ' + board[7] + ' | ' + board[8] + ' | ' + board[9] + ' | '' | ' + board[7] + ' | ' + board[8] + ' | ' + board[9] + ' | ')\n",
    "    print(' -------------'                                                  '  -------------'                                         '  -------------')\n"
   ]
  },
  {
   "cell_type": "code",
   "execution_count": 687,
   "id": "8d76934b",
   "metadata": {},
   "outputs": [
    {
     "name": "stdout",
     "output_type": "stream",
     "text": [
      " -------------  -------------  -------------\n",
      " | 1 | 2 | 3 |  | 1 | 2 | 3 |  | 1 | 2 | 3 | \n",
      " -------------  -------------  -------------\n",
      " | 4 | 5 | 6 |  | 4 | 5 | 6 |  | 4 | 5 | 6 | \n",
      " -------------  -------------  -------------\n",
      " | 7 | 8 | 9 |  | 7 | 8 | 9 |  | 7 | 8 | 9 | \n",
      " -------------  -------------  -------------\n",
      " -------------  -------------  -------------\n",
      " | 1 | 2 | 3 |  | 1 | 2 | 3 |  | 1 | 2 | 3 | \n",
      " -------------  -------------  -------------\n",
      " | 4 | 5 | 6 |  | 4 | 5 | 6 |  | 4 | 5 | 6 | \n",
      " -------------  -------------  -------------\n",
      " | 7 | 8 | 9 |  | 7 | 8 | 9 |  | 7 | 8 | 9 | \n",
      " -------------  -------------  -------------\n",
      " -------------  -------------  -------------\n",
      " | 1 | 2 | 3 |  | 1 | 2 | 3 |  | 1 | 2 | 3 | \n",
      " -------------  -------------  -------------\n",
      " | 4 | 5 | 6 |  | 4 | 5 | 6 |  | 4 | 5 | 6 | \n",
      " -------------  -------------  -------------\n",
      " | 7 | 8 | 9 |  | 7 | 8 | 9 |  | 7 | 8 | 9 | \n",
      " -------------  -------------  -------------\n"
     ]
    }
   ],
   "source": [
    "# test that the function displays the board\n",
    "\n",
    "test_board = [\"°\", \"1\", \"2\", \"3\", \"4\", \"5\", \"6\", \"7\", \"8\", \"9\"]\n",
    "display_board(test_board)"
   ]
  },
  {
   "cell_type": "code",
   "execution_count": null,
   "id": "2e7306c3-2a92-4a0c-9c2f-36f4ef491092",
   "metadata": {},
   "outputs": [],
   "source": []
  },
  {
   "cell_type": "markdown",
   "id": "259ec1f7",
   "metadata": {},
   "source": [
    "# Only for tries - Soduko"
   ]
  },
  {
   "cell_type": "markdown",
   "id": "1cb23016",
   "metadata": {},
   "source": [
    "### Preparing the solved table and the displat function"
   ]
  },
  {
   "cell_type": "code",
   "execution_count": 689,
   "id": "4fe22b94",
   "metadata": {},
   "outputs": [],
   "source": [
    "# Step 1\n",
    "\n",
    "# Create the soduku list\n",
    "\n",
    "\n",
    "def create_sudoku_solution():\n",
    "    small_box1 = ['3','1','6','5','7','8','4','9','2']\n",
    "    small_box2 = ['5','2','9','1','3','4','7','6','8']\n",
    "    small_box3 = ['4','8','7','6','2','9','5','3','1']\n",
    "    small_box4 = ['2','6','3','4','1','5','9','8','7']\n",
    "    small_box5 = ['9','7','4','8','6','3','1','2','5']\n",
    "    small_box6 = ['8','5','1','7','9','2','6','4','3']\n",
    "    small_box7 = ['1','3','8','9','4','7','2','5','6']\n",
    "    small_box8 = ['6','9','2','3','5','1','8','7','4']\n",
    "    small_box9 = ['7','4','5','2','8','6','3','1','9']\n",
    "    \n",
    "    solved_box = [small_box1,small_box2,small_box3,small_box4,small_box5,small_box6,small_box7,small_box8,small_box9]\n",
    "    \n",
    "#    print(small_box1[0:3], '|',small_box2[0:3], '|', small_box3[0:3])\n",
    "#    print(small_box1[3:6], '|',small_box2[3:6], '|', small_box3[3:6])\n",
    "#    print(small_box1[6:9], '|',small_box2[6:9], '|', small_box3[6:9])\n",
    "#    print('---------------------------------------------------')\n",
    "#    print(small_box4[0:3], '|',small_box5[0:3], '|', small_box6[0:3])\n",
    "#    print(small_box4[3:6], '|',small_box5[3:6], '|', small_box6[6:9])\n",
    "#    print(small_box4[6:9], '|',small_box5[6:9], '|', small_box6[6:9])\n",
    "#    print('---------------------------------------------------')\n",
    "#    print(small_box7[0:3], '|',small_box8[0:3], '|', small_box9[0:3])\n",
    "#    print(small_box7[3:6], '|',small_box8[3:6], '|', small_box9[6:9])\n",
    "#    print(small_box7[6:9], '|',small_box8[6:9], '|', small_box9[6:9])\n",
    "    \n",
    "    return solved_box\n",
    "\n",
    "\n",
    "\n",
    "\n"
   ]
  },
  {
   "cell_type": "code",
   "execution_count": 691,
   "id": "09e9cc8d-50ff-4549-b13f-87204b6989be",
   "metadata": {},
   "outputs": [
    {
     "name": "stdout",
     "output_type": "stream",
     "text": [
      "Requirement already satisfied: termcolor in /opt/anaconda3/lib/python3.12/site-packages (3.1.0)\n"
     ]
    }
   ],
   "source": [
    "import sys\n",
    "!\"{sys.executable}\" -m pip install termcolor\n",
    "from termcolor import colored"
   ]
  },
  {
   "cell_type": "code",
   "execution_count": 693,
   "id": "405a2ac2",
   "metadata": {},
   "outputs": [],
   "source": [
    "# display_board() function !!\n",
    "\n",
    "\n",
    "from IPython.display import clear_output\n",
    "\n",
    "def display_board(big_box):\n",
    "    clear_output()\n",
    "\n",
    "    print(colored('     0' + '   1' + '   2 ' + '     3' + '   4' + '   5 '+ '     6' + '   7' + '   8 ' , 'blue' ))\n",
    "    print('   -------------'                                                  '  -------------'                                         '  -------------')\n",
    "    print(colored('0','red'),(' | ' + big_box[0][0] + ' | ' + big_box[0][1] + ' | ' + big_box[0][2] + ' | '' | ' + big_box[0][3] + ' | ' + big_box[0][4] + ' | ' + big_box[0][5] + ' | '' | ' + big_box[0][6] + ' | ' + big_box[0][7] + ' | ' + big_box[0][8] + ' | '))\n",
    "    print('   -------------'                                                  '  -------------'                                         '  -------------')\n",
    "    print(colored('1','red'),(' | ' + big_box[1][0] + ' | ' + big_box[1][1] + ' | ' + big_box[1][2] + ' | '' | ' + big_box[1][3] + ' | ' + big_box[1][4] + ' | ' + big_box[1][5] + ' | '' | ' + big_box[1][6] + ' | ' + big_box[1][7] + ' | ' + big_box[1][8] + ' | '))\n",
    "    print('   -------------'                                                  '  -------------'                                         '  -------------')\n",
    "    print(colored('2','red'),(' | ' + big_box[2][0] + ' | ' + big_box[2][1] + ' | ' + big_box[2][2] + ' | '' | ' + big_box[2][3] + ' | ' + big_box[2][4] + ' | ' + big_box[2][5] + ' | '' | ' + big_box[2][6] + ' | ' + big_box[2][7] + ' | ' + big_box[2][8] + ' | '))\n",
    "    print('   -------------'                                                  '  -------------'                                         '  -------------')\n",
    "    print('   -------------'                                                  '  -------------'                                         '  -------------')\n",
    "    print(colored('3','red'),(' | ' + big_box[3][0] + ' | ' + big_box[3][1] + ' | ' + big_box[3][2] + ' | '' | ' + big_box[3][3] + ' | ' + big_box[3][4] + ' | ' + big_box[3][5] + ' | '' | ' + big_box[3][6] + ' | ' + big_box[3][7] + ' | ' + big_box[3][8] + ' | '))\n",
    "    print('   -------------'                                                  '  -------------'                                         '  -------------')\n",
    "    print(colored('4','red'),(' | ' + big_box[4][0] + ' | ' + big_box[4][1] + ' | ' + big_box[4][2] + ' | '' | ' + big_box[4][3] + ' | ' + big_box[4][4] + ' | ' + big_box[4][5] + ' | '' | ' + big_box[4][6] + ' | ' + big_box[4][7] + ' | ' + big_box[4][8] + ' | '))\n",
    "    print('   -------------'                                                  '  -------------'                                         '  -------------')\n",
    "    print(colored('5','red'),(' | ' + big_box[5][0] + ' | ' + big_box[5][1] + ' | ' + big_box[5][2] + ' | '' | ' + big_box[5][3] + ' | ' + big_box[5][4] + ' | ' + big_box[5][5] + ' | '' | ' + big_box[5][6] + ' | ' + big_box[5][7] + ' | ' + big_box[5][8] + ' | '))\n",
    "    print('   -------------'                                                  '  -------------'                                         '  -------------')\n",
    "    print('   -------------'                                                  '  -------------'                                         '  -------------')\n",
    "    print(colored('6','red'),(' | ' + big_box[6][0] + ' | ' + big_box[6][1] + ' | ' + big_box[6][2] + ' | '' | ' + big_box[6][3] + ' | ' + big_box[6][4] + ' | ' + big_box[6][5] + ' | '' | ' + big_box[6][6] + ' | ' + big_box[6][7] + ' | ' + big_box[6][8] + ' | '))\n",
    "    print('   -------------'                                                  '  -------------'                                         '  -------------')              \n",
    "    print(colored('7','red'),(' | ' + big_box[7][0] + ' | ' + big_box[7][1] + ' | ' + big_box[7][2] + ' | '' | ' + big_box[7][3] + ' | ' + big_box[7][4] + ' | ' + big_box[7][5] + ' | '' | ' + big_box[7][6] + ' | ' + big_box[7][7] + ' | ' + big_box[7][8] + ' | '))\n",
    "    print('   -------------'                                                  '  -------------'                                         '  -------------')\n",
    "    print(colored('8','red'),(' | ' + big_box[8][0] + ' | ' + big_box[8][1] + ' | ' + big_box[8][2] + ' | '' | ' + big_box[8][3] + ' | ' + big_box[8][4] + ' | ' + big_box[8][5] + ' | '' | ' + big_box[8][6] + ' | ' + big_box[8][7] + ' | ' + big_box[8][8] + ' | '))\n",
    "    print('   -------------'                                                  '  -------------'                                         '  -------------')\n"
   ]
  },
  {
   "cell_type": "code",
   "execution_count": 695,
   "id": "bd347948",
   "metadata": {},
   "outputs": [],
   "source": [
    "solved_box = create_sudoku_solution()"
   ]
  },
  {
   "cell_type": "code",
   "execution_count": 617,
   "id": "4b2cc36b",
   "metadata": {},
   "outputs": [
    {
     "name": "stdout",
     "output_type": "stream",
     "text": [
      "\u001b[34m     0   1   2      3   4   5      6   7   8 \u001b[0m\n",
      "   -------------  -------------  -------------\n",
      "\u001b[31m0\u001b[0m  | 3 | 1 | 6 |  | 5 | 7 | 8 |  | 4 | 9 | 2 | \n",
      "   -------------  -------------  -------------\n",
      "\u001b[31m1\u001b[0m  | 5 | 2 | 9 |  | 1 | 3 | 4 |  | 7 | 6 | 8 | \n",
      "   -------------  -------------  -------------\n",
      "\u001b[31m2\u001b[0m  | 4 | 8 | 7 |  | 6 | 2 | 9 |  | 5 | 3 | 1 | \n",
      "   -------------  -------------  -------------\n",
      "   -------------  -------------  -------------\n",
      "\u001b[31m3\u001b[0m  | 2 | 6 | 3 |  | 4 | 1 | 5 |  | 9 | 8 | 7 | \n",
      "   -------------  -------------  -------------\n",
      "\u001b[31m4\u001b[0m  | 9 | 7 | 4 |  | 8 | 6 | 3 |  | 1 | 2 | 5 | \n",
      "   -------------  -------------  -------------\n",
      "\u001b[31m5\u001b[0m  | 8 | 5 | 1 |  | 7 | 9 | 2 |  | 6 | 4 | 3 | \n",
      "   -------------  -------------  -------------\n",
      "   -------------  -------------  -------------\n",
      "\u001b[31m6\u001b[0m  | 1 | 3 | 8 |  | 9 | 4 | 7 |  | 2 | 5 | 6 | \n",
      "   -------------  -------------  -------------\n",
      "\u001b[31m7\u001b[0m  | 6 | 9 | 2 |  | 3 | 5 | 1 |  | 8 | 7 | 4 | \n",
      "   -------------  -------------  -------------\n",
      "\u001b[31m8\u001b[0m  | 7 | 4 | 5 |  | 2 | 8 | 6 |  | 3 | 1 | 9 | \n",
      "   -------------  -------------  -------------\n"
     ]
    }
   ],
   "source": [
    "#display_board(solved_box)"
   ]
  },
  {
   "cell_type": "code",
   "execution_count": null,
   "id": "d1a50a5c",
   "metadata": {},
   "outputs": [],
   "source": []
  },
  {
   "cell_type": "code",
   "execution_count": 410,
   "id": "43517bbd",
   "metadata": {},
   "outputs": [],
   "source": [
    "# Checking that the create_sudoku_solution() and the display_board() is working!\n",
    "\n",
    "#display_board(solved_box)"
   ]
  },
  {
   "cell_type": "markdown",
   "id": "2b7ebe80",
   "metadata": {},
   "source": [
    "### Step 2 Preparing the table ready to play "
   ]
  },
  {
   "cell_type": "code",
   "execution_count": 697,
   "id": "69c9da8b",
   "metadata": {},
   "outputs": [],
   "source": [
    "# Now put STEP 2 in a function - this remove only from small_box\n",
    "\n",
    "import random\n",
    "\n",
    "def remove_number_from_small_box(small_box):\n",
    "    for item in range(1):\n",
    "        remove_number = str(random.randint(1,9)) # The number that is going to remove\n",
    "        for number in range(len(small_box)):\n",
    "            if small_box[number] == remove_number:\n",
    "                small_box[number] = ' '\n",
    "                \n",
    "            \n",
    "    return small_box \n",
    "\n",
    "\n"
   ]
  },
  {
   "cell_type": "code",
   "execution_count": 699,
   "id": "a1bc3b95",
   "metadata": {},
   "outputs": [],
   "source": [
    "# Step 2.2 iterating over all the small boxes and return the big box ready to play!\n",
    "import copy\n",
    "\n",
    "big_box = copy.deepcopy(solved_box)\n",
    "\n",
    "def create_big_box(box):\n",
    "    for small_box in box:\n",
    "        remove_number_from_small_box(small_box)\n",
    "    return box\n",
    "\n",
    "big_box = create_big_box(big_box)\n",
    "\n"
   ]
  },
  {
   "cell_type": "code",
   "execution_count": 413,
   "id": "34fc1139",
   "metadata": {},
   "outputs": [],
   "source": [
    "#display_board(solved_box)"
   ]
  },
  {
   "cell_type": "code",
   "execution_count": 414,
   "id": "409ca235",
   "metadata": {},
   "outputs": [],
   "source": [
    "#display_board(big_box)"
   ]
  },
  {
   "cell_type": "code",
   "execution_count": 701,
   "id": "176a15ab",
   "metadata": {},
   "outputs": [],
   "source": [
    "# Step 3.0 - Choose a number\n",
    "\n",
    "def player_number_input():\n",
    "    \n",
    "    number_input = 0\n",
    "    \n",
    "    while not (number_input >= 1 and number_input <= 9):\n",
    "        print(\"\\033[92mChoose number between 1 to 9\\033[0m\")\n",
    "        number_input = int(input(\" \")) \n",
    "        \n",
    "    number_input = str(number_input)\n",
    "    return number_input\n",
    "\n",
    "\n"
   ]
  },
  {
   "cell_type": "code",
   "execution_count": 727,
   "id": "d91685ee",
   "metadata": {},
   "outputs": [],
   "source": [
    "#number_input = player_number_input()"
   ]
  },
  {
   "cell_type": "code",
   "execution_count": 643,
   "id": "c306f7bc",
   "metadata": {},
   "outputs": [],
   "source": [
    "# Step 3.1\n",
    "\n",
    "#def player_position_input():\n",
    "    \n",
    "#    row_input= -1\n",
    "#    colum_input = -1\n",
    "    \n",
    "#    while not (row_input >= 0  and row_input <= 8):\n",
    "#            row_input = int(input(\"\\033[91m Choose Row number between 0 to 8\"))\n",
    "        \n",
    "#    while not (colum_input  >= 0 and colum_input <= 8):\n",
    "#            colum_input = int(input(\"\\033[94m Choose Colum number between 0 to 8\"))\n",
    "           \n",
    "#    position = [row_input, colum_input] \n",
    "#    return position\n"
   ]
  },
  {
   "cell_type": "code",
   "execution_count": 705,
   "id": "246e34fb-341d-430b-ab25-ab0a363c4c7b",
   "metadata": {},
   "outputs": [],
   "source": [
    "# Step 3.1\n",
    "\n",
    "def player_position_input():\n",
    "    row_input = -1\n",
    "    colum_input = -1\n",
    "    \n",
    "    # Row input\n",
    "    while not (0 <= row_input <= 8):\n",
    "        print(\"\\033[91mChoose Row number between 0 to 8\\033[0m\")\n",
    "        row_input = int(input(\" \"))\n",
    "        \n",
    "    # Column input\n",
    "    while not (0 <= colum_input <= 8):\n",
    "        print(\"\\033[94mChoose Column number between 0 to 8\\033[0m\")\n",
    "        colum_input = int(input(\" \"))\n",
    "        \n",
    "    position = [row_input, colum_input]\n",
    "    return position\n"
   ]
  },
  {
   "cell_type": "code",
   "execution_count": 707,
   "id": "a10443f0",
   "metadata": {},
   "outputs": [],
   "source": [
    "#position = player_position_input()"
   ]
  },
  {
   "cell_type": "code",
   "execution_count": 709,
   "id": "9f8842c5",
   "metadata": {},
   "outputs": [],
   "source": [
    "# Step 3.2 Write a function that takes in the board list object, a number, and the desired position of the number\n",
    "\n",
    "def place_marker(big_box, number_input, position):\n",
    "    big_box[position[0]][position[1]] = number_input\n",
    "\n"
   ]
  },
  {
   "cell_type": "code",
   "execution_count": 420,
   "id": "15c5785e",
   "metadata": {},
   "outputs": [],
   "source": [
    "#place_marker(big_box, number_input, position)\n",
    "#display_board(big_box)"
   ]
  },
  {
   "cell_type": "code",
   "execution_count": 711,
   "id": "87af9c00",
   "metadata": {},
   "outputs": [],
   "source": [
    "# Write a function that checks if the space on the board is free\n",
    "\n",
    "def space_check(big_box, position): #position = [5,8]\n",
    "    return big_box[position[0]][position[1]] == \" \"\n",
    "\n",
    "# Return True if the position is empty  "
   ]
  },
  {
   "cell_type": "code",
   "execution_count": 422,
   "id": "663841a8",
   "metadata": {},
   "outputs": [],
   "source": [
    "#space_check(big_box, position)"
   ]
  },
  {
   "cell_type": "code",
   "execution_count": 713,
   "id": "cccefa1f",
   "metadata": {},
   "outputs": [],
   "source": [
    "def full_board_check(big_box):\n",
    "    for idx, x in enumerate(big_box):\n",
    "        for jdx, j in enumerate(x):\n",
    "            check_position = [idx,jdx]\n",
    "            if space_check(big_box,check_position):\n",
    "                return False\n",
    "\n",
    "    return True"
   ]
  },
  {
   "cell_type": "code",
   "execution_count": 424,
   "id": "ea0091f8",
   "metadata": {},
   "outputs": [],
   "source": [
    "#full_board_check(big_box)"
   ]
  },
  {
   "cell_type": "code",
   "execution_count": 715,
   "id": "9a54b01f",
   "metadata": {},
   "outputs": [],
   "source": [
    "# Change a place if its full \n",
    "\n",
    "def change_number_in_place(big_box, number_input, position):\n",
    "    if not space_check(big_box,position):\n",
    "        \n",
    "        player_decision = ''\n",
    "        \n",
    "        while not (player_decision == \"yes\" or player_decision == \"no\"):\n",
    "            player_decision = input(\"Do you want to change the number in that position? wrtie yes or no\").lower()\n",
    "            \n",
    "        if player_decision == \"yes\":\n",
    "            place_marker(big_box, number_input, position)\n",
    "        else:\n",
    "            print(\"Number in that position did not change\")\n",
    "            \n",
    "\n",
    "    \n"
   ]
  },
  {
   "cell_type": "code",
   "execution_count": 426,
   "id": "e0aa2138",
   "metadata": {},
   "outputs": [],
   "source": [
    "#change_number_in_place(big_box, number_input, position)"
   ]
  },
  {
   "cell_type": "code",
   "execution_count": null,
   "id": "0b5ea432",
   "metadata": {},
   "outputs": [],
   "source": []
  },
  {
   "cell_type": "code",
   "execution_count": 717,
   "id": "f91fc3e2",
   "metadata": {},
   "outputs": [],
   "source": [
    "# Compare player solution to solve_solution\n",
    "\n",
    "def compare_solutions(big_box, solved_box):\n",
    "    return big_box == solved_box\n",
    "\n",
    "#copare_solutions(big_box, solved_box)"
   ]
  },
  {
   "cell_type": "code",
   "execution_count": null,
   "id": "3b5b92f0",
   "metadata": {},
   "outputs": [],
   "source": []
  },
  {
   "cell_type": "markdown",
   "id": "22e1619f",
   "metadata": {},
   "source": [
    "# Make the Logic!!!!"
   ]
  },
  {
   "cell_type": "code",
   "execution_count": null,
   "id": "9d4e882b",
   "metadata": {},
   "outputs": [],
   "source": []
  },
  {
   "cell_type": "code",
   "execution_count": 729,
   "id": "a9344a85",
   "metadata": {},
   "outputs": [
    {
     "name": "stdout",
     "output_type": "stream",
     "text": [
      "\u001b[34m     0   1   2      3   4   5      6   7   8 \u001b[0m\n",
      "   -------------  -------------  -------------\n",
      "\u001b[31m0\u001b[0m  | 3 | 1 | 6 |  | 5 | 7 |   |  | 4 | 9 | 2 | \n",
      "   -------------  -------------  -------------\n",
      "\u001b[31m1\u001b[0m  | 5 | 2 | 9 |  |   | 3 | 4 |  | 7 | 6 | 8 | \n",
      "   -------------  -------------  -------------\n",
      "\u001b[31m2\u001b[0m  | 4 |   | 7 |  | 6 | 2 | 9 |  | 5 | 3 | 1 | \n",
      "   -------------  -------------  -------------\n",
      "   -------------  -------------  -------------\n",
      "\u001b[31m3\u001b[0m  | 2 | 6 | 3 |  | 4 | 1 | 5 |  |   | 8 | 7 | \n",
      "   -------------  -------------  -------------\n",
      "\u001b[31m4\u001b[0m  | 9 | 7 | 4 |  | 8 | 6 |   |  | 1 | 2 | 5 | \n",
      "   -------------  -------------  -------------\n",
      "\u001b[31m5\u001b[0m  |   | 5 | 1 |  | 7 | 9 | 2 |  | 6 | 4 | 3 | \n",
      "   -------------  -------------  -------------\n",
      "   -------------  -------------  -------------\n",
      "\u001b[31m6\u001b[0m  | 1 | 3 | 8 |  | 9 | 4 |   |  | 2 | 5 | 6 | \n",
      "   -------------  -------------  -------------\n",
      "\u001b[31m7\u001b[0m  | 6 | 9 | 2 |  | 3 | 5 | 1 |  |   | 7 | 4 | \n",
      "   -------------  -------------  -------------\n",
      "\u001b[31m8\u001b[0m  | 7 | 4 | 5 |  | 2 | 8 | 6 |  |   | 1 | 9 | \n",
      "   -------------  -------------  -------------\n",
      "\u001b[92mChoose number between 1 to 9\u001b[0m\n"
     ]
    },
    {
     "ename": "KeyboardInterrupt",
     "evalue": "Interrupted by user",
     "output_type": "error",
     "traceback": [
      "\u001b[0;31m---------------------------------------------------------------------------\u001b[0m",
      "\u001b[0;31mKeyboardInterrupt\u001b[0m                         Traceback (most recent call last)",
      "Cell \u001b[0;32mIn[729], line 16\u001b[0m\n\u001b[1;32m     12\u001b[0m display_board(big_box)\n\u001b[1;32m     14\u001b[0m \u001b[38;5;28;01mwhile\u001b[39;00m \u001b[38;5;129;01mnot\u001b[39;00m full_board_check(big_box):\n\u001b[0;32m---> 16\u001b[0m     number_input \u001b[38;5;241m=\u001b[39m player_number_input()\n\u001b[1;32m     18\u001b[0m     position \u001b[38;5;241m=\u001b[39m player_position_input()\n\u001b[1;32m     20\u001b[0m     \u001b[38;5;28;01mif\u001b[39;00m space_check(big_box, position):\n",
      "Cell \u001b[0;32mIn[721], line 6\u001b[0m, in \u001b[0;36mplayer_number_input\u001b[0;34m()\u001b[0m\n\u001b[1;32m      4\u001b[0m \u001b[38;5;28;01mwhile\u001b[39;00m \u001b[38;5;129;01mnot\u001b[39;00m (\u001b[38;5;241m1\u001b[39m \u001b[38;5;241m<\u001b[39m\u001b[38;5;241m=\u001b[39m number_input \u001b[38;5;241m<\u001b[39m\u001b[38;5;241m=\u001b[39m \u001b[38;5;241m9\u001b[39m):\n\u001b[1;32m      5\u001b[0m     \u001b[38;5;28mprint\u001b[39m(\u001b[38;5;124m\"\u001b[39m\u001b[38;5;130;01m\\033\u001b[39;00m\u001b[38;5;124m[92mChoose number between 1 to 9\u001b[39m\u001b[38;5;130;01m\\033\u001b[39;00m\u001b[38;5;124m[0m\u001b[39m\u001b[38;5;124m\"\u001b[39m)\n\u001b[0;32m----> 6\u001b[0m     number_input \u001b[38;5;241m=\u001b[39m \u001b[38;5;28mint\u001b[39m(\u001b[38;5;28minput\u001b[39m(\u001b[38;5;124m\"\u001b[39m\u001b[38;5;124m \u001b[39m\u001b[38;5;124m\"\u001b[39m))\n\u001b[1;32m      8\u001b[0m \u001b[38;5;66;03m# Show the chosen number in green\u001b[39;00m\n\u001b[1;32m      9\u001b[0m \u001b[38;5;28mprint\u001b[39m(\u001b[38;5;124mf\u001b[39m\u001b[38;5;124m\"\u001b[39m\u001b[38;5;130;01m\\033\u001b[39;00m\u001b[38;5;124m[92mYou chose: \u001b[39m\u001b[38;5;132;01m{\u001b[39;00mnumber_input\u001b[38;5;132;01m}\u001b[39;00m\u001b[38;5;130;01m\\033\u001b[39;00m\u001b[38;5;124m[0m\u001b[39m\u001b[38;5;124m\"\u001b[39m)\n",
      "File \u001b[0;32m/opt/anaconda3/lib/python3.12/site-packages/ipykernel/kernelbase.py:1262\u001b[0m, in \u001b[0;36mKernel.raw_input\u001b[0;34m(self, prompt)\u001b[0m\n\u001b[1;32m   1260\u001b[0m     msg \u001b[38;5;241m=\u001b[39m \u001b[38;5;124m\"\u001b[39m\u001b[38;5;124mraw_input was called, but this frontend does not support input requests.\u001b[39m\u001b[38;5;124m\"\u001b[39m\n\u001b[1;32m   1261\u001b[0m     \u001b[38;5;28;01mraise\u001b[39;00m StdinNotImplementedError(msg)\n\u001b[0;32m-> 1262\u001b[0m \u001b[38;5;28;01mreturn\u001b[39;00m \u001b[38;5;28mself\u001b[39m\u001b[38;5;241m.\u001b[39m_input_request(\n\u001b[1;32m   1263\u001b[0m     \u001b[38;5;28mstr\u001b[39m(prompt),\n\u001b[1;32m   1264\u001b[0m     \u001b[38;5;28mself\u001b[39m\u001b[38;5;241m.\u001b[39m_parent_ident[\u001b[38;5;124m\"\u001b[39m\u001b[38;5;124mshell\u001b[39m\u001b[38;5;124m\"\u001b[39m],\n\u001b[1;32m   1265\u001b[0m     \u001b[38;5;28mself\u001b[39m\u001b[38;5;241m.\u001b[39mget_parent(\u001b[38;5;124m\"\u001b[39m\u001b[38;5;124mshell\u001b[39m\u001b[38;5;124m\"\u001b[39m),\n\u001b[1;32m   1266\u001b[0m     password\u001b[38;5;241m=\u001b[39m\u001b[38;5;28;01mFalse\u001b[39;00m,\n\u001b[1;32m   1267\u001b[0m )\n",
      "File \u001b[0;32m/opt/anaconda3/lib/python3.12/site-packages/ipykernel/kernelbase.py:1305\u001b[0m, in \u001b[0;36mKernel._input_request\u001b[0;34m(self, prompt, ident, parent, password)\u001b[0m\n\u001b[1;32m   1302\u001b[0m \u001b[38;5;28;01mexcept\u001b[39;00m \u001b[38;5;167;01mKeyboardInterrupt\u001b[39;00m:\n\u001b[1;32m   1303\u001b[0m     \u001b[38;5;66;03m# re-raise KeyboardInterrupt, to truncate traceback\u001b[39;00m\n\u001b[1;32m   1304\u001b[0m     msg \u001b[38;5;241m=\u001b[39m \u001b[38;5;124m\"\u001b[39m\u001b[38;5;124mInterrupted by user\u001b[39m\u001b[38;5;124m\"\u001b[39m\n\u001b[0;32m-> 1305\u001b[0m     \u001b[38;5;28;01mraise\u001b[39;00m \u001b[38;5;167;01mKeyboardInterrupt\u001b[39;00m(msg) \u001b[38;5;28;01mfrom\u001b[39;00m \u001b[38;5;28;01mNone\u001b[39;00m\n\u001b[1;32m   1306\u001b[0m \u001b[38;5;28;01mexcept\u001b[39;00m \u001b[38;5;167;01mException\u001b[39;00m:\n\u001b[1;32m   1307\u001b[0m     \u001b[38;5;28mself\u001b[39m\u001b[38;5;241m.\u001b[39mlog\u001b[38;5;241m.\u001b[39mwarning(\u001b[38;5;124m\"\u001b[39m\u001b[38;5;124mInvalid Message:\u001b[39m\u001b[38;5;124m\"\u001b[39m, exc_info\u001b[38;5;241m=\u001b[39m\u001b[38;5;28;01mTrue\u001b[39;00m)\n",
      "\u001b[0;31mKeyboardInterrupt\u001b[0m: Interrupted by user"
     ]
    }
   ],
   "source": [
    "# Step 1: Creating the solved_box and the big_box\n",
    "\n",
    "solved_box = create_sudoku_solution()\n",
    "#display_board(solved_box)\n",
    "big_box = copy.deepcopy(solved_box)\n",
    "big_box = create_big_box(big_box)\n",
    "#display_board(big_box)\n",
    "\n",
    "\n",
    "# Step 2: Play!!\n",
    "\n",
    "display_board(big_box)\n",
    "              \n",
    "while not full_board_check(big_box):\n",
    "        \n",
    "    number_input = player_number_input()\n",
    "    \n",
    "    position = player_position_input()\n",
    "    \n",
    "    if space_check(big_box, position):\n",
    "        place_marker(big_box, number_input, position)\n",
    "    else:\n",
    "        change_number_in_place(big_box, number_input, position)\n",
    "        \n",
    "    display_board(big_box)            \n",
    "        \n",
    "# Step 3: Compare big_box to solved_box       \n",
    "        \n",
    "print(\"Your board is:\")\n",
    "print(display_board(big_box))\n",
    "print(\"The soluting board is:\")\n",
    "print(display_board(solved_box))\n",
    "\n",
    "if compare_solutions(big_box, solved_box):\n",
    "    print(\"\\033[95mCongartulations!! YOU ROCK!!\\033[0m\")\n",
    "else:\n",
    "    print(\"\\033[95mYour'e wrong...\\033[0m\")\n",
    "\n"
   ]
  },
  {
   "cell_type": "code",
   "execution_count": 430,
   "id": "a7936431",
   "metadata": {},
   "outputs": [],
   "source": [
    "#print(display_board(solved_box))"
   ]
  },
  {
   "cell_type": "code",
   "execution_count": null,
   "id": "bb019580",
   "metadata": {},
   "outputs": [],
   "source": []
  },
  {
   "cell_type": "code",
   "execution_count": null,
   "id": "a145be2f-ab3d-4977-899b-5ef31028982a",
   "metadata": {},
   "outputs": [],
   "source": []
  },
  {
   "cell_type": "code",
   "execution_count": null,
   "id": "a2ed970e",
   "metadata": {},
   "outputs": [],
   "source": []
  }
 ],
 "metadata": {
  "kernelspec": {
   "display_name": "Python [conda env:base] *",
   "language": "python",
   "name": "conda-base-py"
  },
  "language_info": {
   "codemirror_mode": {
    "name": "ipython",
    "version": 3
   },
   "file_extension": ".py",
   "mimetype": "text/x-python",
   "name": "python",
   "nbconvert_exporter": "python",
   "pygments_lexer": "ipython3",
   "version": "3.12.7"
  }
 },
 "nbformat": 4,
 "nbformat_minor": 5
}
