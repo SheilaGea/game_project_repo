{
 "cells": [
  {
   "cell_type": "markdown",
   "metadata": {},
   "source": [
    "# Sudoku"
   ]
  },
  {
   "cell_type": "code",
   "execution_count": 85,
   "metadata": {},
   "outputs": [],
   "source": [
    "# Create an empty table\n",
    "\n",
    "from IPython.display import clear_output\n",
    "\n",
    "def display_board(board):\n",
    "    clear_output()\n",
    "\n",
    "    print(' -------------'                                                  '  -------------'                                         '  -------------')\n",
    "    print(' | ' + board[1] + ' | ' + board[2] + ' | ' + board[3] + ' | '' | ' + board[1] + ' | ' + board[2] + ' | ' + board[3] + ' | '' | ' + board[1] + ' | ' + board[2] + ' | ' + board[3] + ' | ')\n",
    "    print(' -------------'                                                  '  -------------'                                         '  -------------')\n",
    "    print(' | ' + board[4] + ' | ' + board[5] + ' | ' + board[6] + ' | '' | ' + board[4] + ' | ' + board[5] + ' | ' + board[6] + ' | '' | ' + board[4] + ' | ' + board[5] + ' | ' + board[6] + ' | ')\n",
    "    print(' -------------'                                                  '  -------------'                                         '  -------------')\n",
    "    print(' | ' + board[7] + ' | ' + board[8] + ' | ' + board[9] + ' | '' | ' + board[7] + ' | ' + board[8] + ' | ' + board[9] + ' | '' | ' + board[7] + ' | ' + board[8] + ' | ' + board[9] + ' | ')\n",
    "    print(' -------------'                                                  '  -------------'                                         '  -------------')\n",
    "    print(' -------------'                                                  '  -------------'                                         '  -------------')\n",
    "    print(' | ' + board[1] + ' | ' + board[2] + ' | ' + board[3] + ' | '' | ' + board[1] + ' | ' + board[2] + ' | ' + board[3] + ' | '' | ' + board[1] + ' | ' + board[2] + ' | ' + board[3] + ' | ')\n",
    "    print(' -------------'                                                  '  -------------'                                         '  -------------')\n",
    "    print(' | ' + board[4] + ' | ' + board[5] + ' | ' + board[6] + ' | '' | ' + board[4] + ' | ' + board[5] + ' | ' + board[6] + ' | '' | ' + board[4] + ' | ' + board[5] + ' | ' + board[6] + ' | ')\n",
    "    print(' -------------'                                                  '  -------------'                                         '  -------------')\n",
    "    print(' | ' + board[7] + ' | ' + board[8] + ' | ' + board[9] + ' | '' | ' + board[7] + ' | ' + board[8] + ' | ' + board[9] + ' | '' | ' + board[7] + ' | ' + board[8] + ' | ' + board[9] + ' | ')\n",
    "    print(' -------------'                                                  '  -------------'                                         '  -------------')\n",
    "    print(' -------------'                                                  '  -------------'                                         '  -------------')\n",
    "    print(' | ' + board[1] + ' | ' + board[2] + ' | ' + board[3] + ' | '' | ' + board[1] + ' | ' + board[2] + ' | ' + board[3] + ' | '' | ' + board[1] + ' | ' + board[2] + ' | ' + board[3] + ' | ')\n",
    "    print(' -------------'                                                  '  -------------'                                         '  -------------')              \n",
    "    print(' | ' + board[4] + ' | ' + board[5] + ' | ' + board[6] + ' | '' | ' + board[4] + ' | ' + board[5] + ' | ' + board[6] + ' | '' | ' + board[4] + ' | ' + board[5] + ' | ' + board[6] + ' | ')\n",
    "    print(' -------------'                                                  '  -------------'                                         '  -------------')\n",
    "    print(' | ' + board[7] + ' | ' + board[8] + ' | ' + board[9] + ' | '' | ' + board[7] + ' | ' + board[8] + ' | ' + board[9] + ' | '' | ' + board[7] + ' | ' + board[8] + ' | ' + board[9] + ' | ')\n",
    "    print(' -------------'                                                  '  -------------'                                         '  -------------')\n"
   ]
  },
  {
   "cell_type": "code",
   "execution_count": 86,
   "metadata": {},
   "outputs": [
    {
     "name": "stdout",
     "output_type": "stream",
     "text": [
      " -------------  -------------  -------------\n",
      " | 1 | 2 | 3 |  | 1 | 2 | 3 |  | 1 | 2 | 3 | \n",
      " -------------  -------------  -------------\n",
      " | 4 | 5 | 6 |  | 4 | 5 | 6 |  | 4 | 5 | 6 | \n",
      " -------------  -------------  -------------\n",
      " | 7 | 8 | 9 |  | 7 | 8 | 9 |  | 7 | 8 | 9 | \n",
      " -------------  -------------  -------------\n",
      " -------------  -------------  -------------\n",
      " | 1 | 2 | 3 |  | 1 | 2 | 3 |  | 1 | 2 | 3 | \n",
      " -------------  -------------  -------------\n",
      " | 4 | 5 | 6 |  | 4 | 5 | 6 |  | 4 | 5 | 6 | \n",
      " -------------  -------------  -------------\n",
      " | 7 | 8 | 9 |  | 7 | 8 | 9 |  | 7 | 8 | 9 | \n",
      " -------------  -------------  -------------\n",
      " -------------  -------------  -------------\n",
      " | 1 | 2 | 3 |  | 1 | 2 | 3 |  | 1 | 2 | 3 | \n",
      " -------------  -------------  -------------\n",
      " | 4 | 5 | 6 |  | 4 | 5 | 6 |  | 4 | 5 | 6 | \n",
      " -------------  -------------  -------------\n",
      " | 7 | 8 | 9 |  | 7 | 8 | 9 |  | 7 | 8 | 9 | \n",
      " -------------  -------------  -------------\n"
     ]
    }
   ],
   "source": [
    "# test that the function displays the board\n",
    "\n",
    "test_board = [\"°\", \"1\", \"2\", \"3\", \"4\", \"5\", \"6\", \"7\", \"8\", \"9\"]\n",
    "display_board(test_board)"
   ]
  },
  {
   "cell_type": "markdown",
   "metadata": {},
   "source": [
    "# Only for tries - Soduko"
   ]
  },
  {
   "cell_type": "markdown",
   "metadata": {},
   "source": [
    "### Preparing the solved table and the displat function"
   ]
  },
  {
   "cell_type": "code",
   "execution_count": 406,
   "metadata": {},
   "outputs": [],
   "source": [
    "# Step 1\n",
    "\n",
    "# Create the soduku list\n",
    "\n",
    "\n",
    "def create_sudoku_solution():\n",
    "    small_box1 = ['3','1','6','5','7','8','4','9','2']\n",
    "    small_box2 = ['5','2','9','1','3','4','7','6','8']\n",
    "    small_box3 = ['4','8','7','6','2','9','5','3','1']\n",
    "    small_box4 = ['2','6','3','4','1','5','9','8','7']\n",
    "    small_box5 = ['9','7','4','8','6','3','1','2','5']\n",
    "    small_box6 = ['8','5','1','7','9','2','6','4','3']\n",
    "    small_box7 = ['1','3','8','9','4','7','2','5','6']\n",
    "    small_box8 = ['6','9','2','3','5','1','8','7','4']\n",
    "    small_box9 = ['7','4','5','2','8','6','3','1','9']\n",
    "    \n",
    "    solved_box = [small_box1,small_box2,small_box3,small_box4,small_box5,small_box6,small_box7,small_box8,small_box9]\n",
    "    \n",
    "#    print(small_box1[0:3], '|',small_box2[0:3], '|', small_box3[0:3])\n",
    "#    print(small_box1[3:6], '|',small_box2[3:6], '|', small_box3[3:6])\n",
    "#    print(small_box1[6:9], '|',small_box2[6:9], '|', small_box3[6:9])\n",
    "#    print('---------------------------------------------------')\n",
    "#    print(small_box4[0:3], '|',small_box5[0:3], '|', small_box6[0:3])\n",
    "#    print(small_box4[3:6], '|',small_box5[3:6], '|', small_box6[6:9])\n",
    "#    print(small_box4[6:9], '|',small_box5[6:9], '|', small_box6[6:9])\n",
    "#    print('---------------------------------------------------')\n",
    "#    print(small_box7[0:3], '|',small_box8[0:3], '|', small_box9[0:3])\n",
    "#    print(small_box7[3:6], '|',small_box8[3:6], '|', small_box9[6:9])\n",
    "#    print(small_box7[6:9], '|',small_box8[6:9], '|', small_box9[6:9])\n",
    "    \n",
    "    return solved_box\n",
    "\n",
    "\n",
    "\n",
    "\n"
   ]
  },
  {
   "cell_type": "code",
   "execution_count": 407,
   "metadata": {},
   "outputs": [],
   "source": [
    "# display_board() function !!\n",
    "\n",
    "\n",
    "\n",
    "from IPython.display import clear_output\n",
    "\n",
    "def display_board(big_box):\n",
    "    clear_output()\n",
    "\n",
    "    print(' -------------'                                                  '  -------------'                                         '  -------------')\n",
    "    print(' | ' + big_box[0][0] + ' | ' + big_box[0][1] + ' | ' + big_box[0][2] + ' | '' | ' + big_box[0][3] + ' | ' + big_box[0][4] + ' | ' + big_box[0][5] + ' | '' | ' + big_box[0][6] + ' | ' + big_box[0][7] + ' | ' + big_box[0][8] + ' | ')\n",
    "    print(' -------------'                                                  '  -------------'                                         '  -------------')\n",
    "    print(' | ' + big_box[1][0] + ' | ' + big_box[1][1] + ' | ' + big_box[1][2] + ' | '' | ' + big_box[1][3] + ' | ' + big_box[1][4] + ' | ' + big_box[1][5] + ' | '' | ' + big_box[1][6] + ' | ' + big_box[1][7] + ' | ' + big_box[1][8] + ' | ')\n",
    "    print(' -------------'                                                  '  -------------'                                         '  -------------')\n",
    "    print(' | ' + big_box[2][0] + ' | ' + big_box[2][1] + ' | ' + big_box[2][2] + ' | '' | ' + big_box[2][3] + ' | ' + big_box[2][4] + ' | ' + big_box[2][5] + ' | '' | ' + big_box[2][6] + ' | ' + big_box[2][7] + ' | ' + big_box[2][8] + ' | ')\n",
    "    print(' -------------'                                                  '  -------------'                                         '  -------------')\n",
    "    print(' -------------'                                                  '  -------------'                                         '  -------------')\n",
    "    print(' | ' + big_box[3][0] + ' | ' + big_box[3][1] + ' | ' + big_box[3][2] + ' | '' | ' + big_box[3][3] + ' | ' + big_box[3][4] + ' | ' + big_box[3][5] + ' | '' | ' + big_box[3][6] + ' | ' + big_box[3][7] + ' | ' + big_box[3][8] + ' | ')\n",
    "    print(' -------------'                                                  '  -------------'                                         '  -------------')\n",
    "    print(' | ' + big_box[4][0] + ' | ' + big_box[4][1] + ' | ' + big_box[4][2] + ' | '' | ' + big_box[4][3] + ' | ' + big_box[4][4] + ' | ' + big_box[4][5] + ' | '' | ' + big_box[4][6] + ' | ' + big_box[4][7] + ' | ' + big_box[4][8] + ' | ')\n",
    "    print(' -------------'                                                  '  -------------'                                         '  -------------')\n",
    "    print(' | ' + big_box[5][0] + ' | ' + big_box[5][1] + ' | ' + big_box[5][2] + ' | '' | ' + big_box[5][3] + ' | ' + big_box[5][4] + ' | ' + big_box[5][5] + ' | '' | ' + big_box[5][6] + ' | ' + big_box[5][7] + ' | ' + big_box[5][8] + ' | ')\n",
    "    print(' -------------'                                                  '  -------------'                                         '  -------------')\n",
    "    print(' -------------'                                                  '  -------------'                                         '  -------------')\n",
    "    print(' | ' + big_box[6][0] + ' | ' + big_box[6][1] + ' | ' + big_box[6][2] + ' | '' | ' + big_box[6][3] + ' | ' + big_box[6][4] + ' | ' + big_box[6][5] + ' | '' | ' + big_box[6][6] + ' | ' + big_box[6][7] + ' | ' + big_box[6][8] + ' | ')\n",
    "    print(' -------------'                                                  '  -------------'                                         '  -------------')              \n",
    "    print(' | ' + big_box[7][0] + ' | ' + big_box[7][1] + ' | ' + big_box[7][2] + ' | '' | ' + big_box[7][3] + ' | ' + big_box[7][4] + ' | ' + big_box[7][5] + ' | '' | ' + big_box[7][6] + ' | ' + big_box[7][7] + ' | ' + big_box[7][8] + ' | ')\n",
    "    print(' -------------'                                                  '  -------------'                                         '  -------------')\n",
    "    print(' | ' + big_box[8][0] + ' | ' + big_box[8][1] + ' | ' + big_box[8][2] + ' | '' | ' + big_box[8][3] + ' | ' + big_box[8][4] + ' | ' + big_box[8][5] + ' | '' | ' + big_box[8][6] + ' | ' + big_box[8][7] + ' | ' + big_box[8][8] + ' | ')\n",
    "    print(' -------------'                                                  '  -------------'                                         '  -------------')\n"
   ]
  },
  {
   "cell_type": "code",
   "execution_count": 408,
   "metadata": {},
   "outputs": [],
   "source": [
    "solved_box = create_sudoku_solution()"
   ]
  },
  {
   "cell_type": "code",
   "execution_count": 429,
   "metadata": {},
   "outputs": [],
   "source": [
    "#display_board(solved_box)"
   ]
  },
  {
   "cell_type": "code",
   "execution_count": null,
   "metadata": {},
   "outputs": [],
   "source": []
  },
  {
   "cell_type": "code",
   "execution_count": 410,
   "metadata": {},
   "outputs": [],
   "source": [
    "# Checking that the create_sudoku_solution() and the display_board() is working!\n",
    "\n",
    "#display_board(solved_box)"
   ]
  },
  {
   "cell_type": "markdown",
   "metadata": {},
   "source": [
    "### Step 2 Preparing the table ready to play "
   ]
  },
  {
   "cell_type": "code",
   "execution_count": 411,
   "metadata": {},
   "outputs": [],
   "source": [
    "# Now put STEP 2 in a function - this remove only from small_box\n",
    "\n",
    "import random\n",
    "\n",
    "def remove_number_from_small_box(small_box):\n",
    "    for item in range(1):\n",
    "        remove_number = str(random.randint(1,9)) # The number that is going to remove\n",
    "        for number in range(len(small_box)):\n",
    "            if small_box[number] == remove_number:\n",
    "                small_box[number] = ' '\n",
    "                \n",
    "            \n",
    "    return small_box \n",
    "\n",
    "\n"
   ]
  },
  {
   "cell_type": "code",
   "execution_count": 412,
   "metadata": {},
   "outputs": [],
   "source": [
    "# Step 2.2 iterating over all the small boxes and return the big box ready to play!\n",
    "import copy\n",
    "\n",
    "big_box = copy.deepcopy(solved_box)\n",
    "\n",
    "def create_big_box(box):\n",
    "    for small_box in box:\n",
    "        remove_number_from_small_box(small_box)\n",
    "    return box\n",
    "\n",
    "big_box = create_big_box(big_box)\n",
    "\n"
   ]
  },
  {
   "cell_type": "code",
   "execution_count": 413,
   "metadata": {},
   "outputs": [],
   "source": [
    "#display_board(solved_box)"
   ]
  },
  {
   "cell_type": "code",
   "execution_count": 414,
   "metadata": {},
   "outputs": [],
   "source": [
    "#display_board(big_box)"
   ]
  },
  {
   "cell_type": "code",
   "execution_count": 415,
   "metadata": {},
   "outputs": [],
   "source": [
    "# Step 3.0 - Choose a number\n",
    "\n",
    "def player_number_input():\n",
    "    \n",
    "    number_input = 0\n",
    "    \n",
    "    while not (number_input >= 1 and number_input <= 9):\n",
    "        number_input = int(input(\"Choose number between 1 to 9\"))\n",
    "    number_input = str(number_input)\n",
    "    return number_input\n"
   ]
  },
  {
   "cell_type": "code",
   "execution_count": 416,
   "metadata": {},
   "outputs": [],
   "source": [
    "#number_input = player_number_input()"
   ]
  },
  {
   "cell_type": "code",
   "execution_count": 417,
   "metadata": {},
   "outputs": [],
   "source": [
    "# Step 3.1\n",
    "\n",
    "def player_position_input():\n",
    "    \n",
    "    row_input= -1\n",
    "    colum_input = -1\n",
    "    \n",
    "    while not (row_input >= 0  and row_input <= 8):\n",
    "            row_input = int(input(\"Choose Row number between 0 to 8\"))\n",
    "        \n",
    "    while not (colum_input  >= 0 and colum_input <= 8):\n",
    "            colum_input = int(input(\"Choose Colum number between 0 to 8\"))\n",
    "           \n",
    "    position = [row_input, colum_input] \n",
    "    return position\n"
   ]
  },
  {
   "cell_type": "code",
   "execution_count": 418,
   "metadata": {},
   "outputs": [],
   "source": [
    "#position = player_position_input()"
   ]
  },
  {
   "cell_type": "code",
   "execution_count": null,
   "metadata": {},
   "outputs": [],
   "source": []
  },
  {
   "cell_type": "code",
   "execution_count": 419,
   "metadata": {},
   "outputs": [],
   "source": [
    "# Step 3.2 Write a function that takes in the board list object, a number, and the desired position of the number\n",
    "\n",
    "def place_marker(big_box, number_input, position):\n",
    "    big_box[position[0]][position[1]] = number_input\n",
    "\n"
   ]
  },
  {
   "cell_type": "code",
   "execution_count": 420,
   "metadata": {},
   "outputs": [],
   "source": [
    "#place_marker(big_box, number_input, position)\n",
    "#display_board(big_box)"
   ]
  },
  {
   "cell_type": "code",
   "execution_count": 421,
   "metadata": {},
   "outputs": [],
   "source": [
    "# Write a function that checks if the space on the board is free\n",
    "\n",
    "def space_check(big_box, position): #position = [5,8]\n",
    "    return big_box[position[0]][position[1]] == \" \"\n",
    "\n",
    "# Return True if the position is empty  "
   ]
  },
  {
   "cell_type": "code",
   "execution_count": 422,
   "metadata": {},
   "outputs": [],
   "source": [
    "#space_check(big_box, position)"
   ]
  },
  {
   "cell_type": "code",
   "execution_count": 423,
   "metadata": {},
   "outputs": [],
   "source": [
    "def full_board_check(big_box):\n",
    "    for idx, x in enumerate(big_box):\n",
    "        for jdx, j in enumerate(x):\n",
    "            check_position = [idx,jdx]\n",
    "            if space_check(big_box,check_position):\n",
    "                return False\n",
    "\n",
    "    return True"
   ]
  },
  {
   "cell_type": "code",
   "execution_count": 424,
   "metadata": {},
   "outputs": [],
   "source": [
    "#full_board_check(big_box)"
   ]
  },
  {
   "cell_type": "code",
   "execution_count": 425,
   "metadata": {},
   "outputs": [],
   "source": [
    "# Change a place if its full \n",
    "\n",
    "def change_number_in_place(big_box, number_input, position):\n",
    "    if not space_check(big_box,position):\n",
    "        \n",
    "        player_decision = ''\n",
    "        \n",
    "        while not (player_decision == \"yes\" or player_decision == \"no\"):\n",
    "            player_decision = input(\"Do you want to change the number in that position? wrtie yes or no\").lower()\n",
    "            \n",
    "        if player_decision == \"yes\":\n",
    "            place_marker(big_box, number_input, position)\n",
    "        else:\n",
    "            print(\"Number in that position did not change\")\n",
    "            \n",
    "\n",
    "    \n"
   ]
  },
  {
   "cell_type": "code",
   "execution_count": 426,
   "metadata": {},
   "outputs": [],
   "source": [
    "#change_number_in_place(big_box, number_input, position)"
   ]
  },
  {
   "cell_type": "code",
   "execution_count": null,
   "metadata": {},
   "outputs": [],
   "source": []
  },
  {
   "cell_type": "code",
   "execution_count": 427,
   "metadata": {},
   "outputs": [],
   "source": [
    "# Compare player solution to solve_solution\n",
    "\n",
    "def compare_solutions(big_box, solved_box):\n",
    "    return big_box == solved_box\n",
    "\n",
    "#copare_solutions(big_box, solved_box)"
   ]
  },
  {
   "cell_type": "code",
   "execution_count": null,
   "metadata": {},
   "outputs": [],
   "source": []
  },
  {
   "cell_type": "markdown",
   "metadata": {},
   "source": [
    "# Make the Logic!!!!"
   ]
  },
  {
   "cell_type": "code",
   "execution_count": null,
   "metadata": {},
   "outputs": [],
   "source": []
  },
  {
   "cell_type": "code",
   "execution_count": 428,
   "metadata": {},
   "outputs": [
    {
     "name": "stdout",
     "output_type": "stream",
     "text": [
      " -------------  -------------  -------------\n",
      " | 3 | 1 | 6 |  | 5 | 7 | 8 |  | 4 | 9 | 2 | \n",
      " -------------  -------------  -------------\n",
      " | 5 | 2 | 9 |  | 1 | 3 | 4 |  | 7 | 6 | 8 | \n",
      " -------------  -------------  -------------\n",
      " | 4 | 8 | 7 |  | 6 | 2 | 9 |  | 5 | 3 | 1 | \n",
      " -------------  -------------  -------------\n",
      " -------------  -------------  -------------\n",
      " | 2 | 6 | 3 |  | 4 | 1 | 5 |  | 9 | 8 | 7 | \n",
      " -------------  -------------  -------------\n",
      " | 9 | 7 | 4 |  | 8 | 6 | 3 |  | 1 | 2 | 5 | \n",
      " -------------  -------------  -------------\n",
      " | 8 | 5 | 1 |  | 7 | 9 | 2 |  | 6 | 4 | 3 | \n",
      " -------------  -------------  -------------\n",
      " -------------  -------------  -------------\n",
      " | 1 | 3 | 8 |  | 9 | 4 | 7 |  | 2 | 5 | 6 | \n",
      " -------------  -------------  -------------\n",
      " | 6 | 9 | 2 |  | 3 | 5 | 1 |  | 8 | 7 | 4 | \n",
      " -------------  -------------  -------------\n",
      " | 7 | 4 | 5 |  | 2 | 8 | 6 |  | 3 | 1 | 9 | \n",
      " -------------  -------------  -------------\n",
      "None\n",
      "Congartulations!! YOU ROCK!!\n"
     ]
    }
   ],
   "source": [
    "# Step 1: Creating the solved_box and the big_box\n",
    "\n",
    "solved_box = create_sudoku_solution()\n",
    "#display_board(solved_box)\n",
    "big_box = copy.deepcopy(solved_box)\n",
    "big_box = create_big_box(big_box)\n",
    "#display_board(big_box)\n",
    "\n",
    "\n",
    "# Step 2: Play!!\n",
    "\n",
    "display_board(big_box)\n",
    "              \n",
    "while not full_board_check(big_box):\n",
    "        \n",
    "    number_input = player_number_input()\n",
    "    \n",
    "    position = player_position_input()\n",
    "    \n",
    "    if space_check(big_box, position):\n",
    "        place_marker(big_box, number_input, position)\n",
    "    else:\n",
    "        change_number_in_place(big_box, number_input, position)\n",
    "        \n",
    "    display_board(big_box)            \n",
    "        \n",
    "# Step 3: Compare big_box to solved_box       \n",
    "        \n",
    "print(\"Your board is:\")\n",
    "print(display_board(big_box))\n",
    "print(\"The soluting board is:\")\n",
    "print(display_board(solved_box))\n",
    "\n",
    "if compare_solutions(big_box, solved_box):\n",
    "    print(\"Congartulations!! YOU ROCK!!\")\n",
    "else:\n",
    "    print(\"Your'e wrong...\")\n",
    "\n"
   ]
  },
  {
   "cell_type": "code",
   "execution_count": 430,
   "metadata": {},
   "outputs": [],
   "source": [
    "#print(display_board(solved_box))"
   ]
  },
  {
   "cell_type": "code",
   "execution_count": null,
   "metadata": {},
   "outputs": [],
   "source": []
  },
  {
   "cell_type": "code",
   "execution_count": null,
   "metadata": {},
   "outputs": [],
   "source": []
  }
 ],
 "metadata": {
  "kernelspec": {
   "display_name": "Python 3.12",
   "language": "python",
   "name": "python312"
  },
  "language_info": {
   "codemirror_mode": {
    "name": "ipython",
    "version": 3
   },
   "file_extension": ".py",
   "mimetype": "text/x-python",
   "name": "python",
   "nbconvert_exporter": "python",
   "pygments_lexer": "ipython3",
   "version": "3.12.2"
  }
 },
 "nbformat": 4,
 "nbformat_minor": 5
}
