{
 "cells": [
  {
   "cell_type": "markdown",
   "metadata": {},
   "source": [
    "# Sudoku"
   ]
  },
  {
   "cell_type": "code",
   "execution_count": 4,
   "metadata": {},
   "outputs": [],
   "source": [
    "# Create an empty table\n",
    "\n",
    "from IPython.display import clear_output\n",
    "\n",
    "def display_board(board):\n",
    "    clear_output()\n",
    "\n",
    "    print(' -------------'                                                  '  -------------'                                         '  -------------')\n",
    "    print(' | ' + board[1] + ' | ' + board[2] + ' | ' + board[3] + ' | '' | ' + board[1] + ' | ' + board[2] + ' | ' + board[3] + ' | '' | ' + board[1] + ' | ' + board[2] + ' | ' + board[3] + ' | ')\n",
    "    print(' -------------'                                                  '  -------------'                                         '  -------------')\n",
    "    print(' | ' + board[4] + ' | ' + board[5] + ' | ' + board[6] + ' | '' | ' + board[4] + ' | ' + board[5] + ' | ' + board[6] + ' | '' | ' + board[4] + ' | ' + board[5] + ' | ' + board[6] + ' | ')\n",
    "    print(' -------------'                                                  '  -------------'                                         '  -------------')\n",
    "    print(' | ' + board[7] + ' | ' + board[8] + ' | ' + board[9] + ' | '' | ' + board[7] + ' | ' + board[8] + ' | ' + board[9] + ' | '' | ' + board[7] + ' | ' + board[8] + ' | ' + board[9] + ' | ')\n",
    "    print(' -------------'                                                  '  -------------'                                         '  -------------')\n",
    "    print(' -------------'                                                  '  -------------'                                         '  -------------')\n",
    "    print(' | ' + board[1] + ' | ' + board[2] + ' | ' + board[3] + ' | '' | ' + board[1] + ' | ' + board[2] + ' | ' + board[3] + ' | '' | ' + board[1] + ' | ' + board[2] + ' | ' + board[3] + ' | ')\n",
    "    print(' -------------'                                                  '  -------------'                                         '  -------------')\n",
    "    print(' | ' + board[4] + ' | ' + board[5] + ' | ' + board[6] + ' | '' | ' + board[4] + ' | ' + board[5] + ' | ' + board[6] + ' | '' | ' + board[4] + ' | ' + board[5] + ' | ' + board[6] + ' | ')\n",
    "    print(' -------------'                                                  '  -------------'                                         '  -------------')\n",
    "    print(' | ' + board[7] + ' | ' + board[8] + ' | ' + board[9] + ' | '' | ' + board[7] + ' | ' + board[8] + ' | ' + board[9] + ' | '' | ' + board[7] + ' | ' + board[8] + ' | ' + board[9] + ' | ')\n",
    "    print(' -------------'                                                  '  -------------'                                         '  -------------')\n",
    "    print(' -------------'                                                  '  -------------'                                         '  -------------')\n",
    "    print(' | ' + board[1] + ' | ' + board[2] + ' | ' + board[3] + ' | '' | ' + board[1] + ' | ' + board[2] + ' | ' + board[3] + ' | '' | ' + board[1] + ' | ' + board[2] + ' | ' + board[3] + ' | ')\n",
    "    print(' -------------'                                                  '  -------------'                                         '  -------------')              \n",
    "    print(' | ' + board[4] + ' | ' + board[5] + ' | ' + board[6] + ' | '' | ' + board[4] + ' | ' + board[5] + ' | ' + board[6] + ' | '' | ' + board[4] + ' | ' + board[5] + ' | ' + board[6] + ' | ')\n",
    "    print(' -------------'                                                  '  -------------'                                         '  -------------')\n",
    "    print(' | ' + board[7] + ' | ' + board[8] + ' | ' + board[9] + ' | '' | ' + board[7] + ' | ' + board[8] + ' | ' + board[9] + ' | '' | ' + board[7] + ' | ' + board[8] + ' | ' + board[9] + ' | ')\n",
    "    print(' -------------'                                                  '  -------------'                                         '  -------------')\n"
   ]
  },
  {
   "cell_type": "code",
   "execution_count": 5,
   "metadata": {},
   "outputs": [
    {
     "name": "stdout",
     "output_type": "stream",
     "text": [
      " -------------  -------------  -------------\n",
      " | 1 | 2 | 3 |  | 1 | 2 | 3 |  | 1 | 2 | 3 | \n",
      " -------------  -------------  -------------\n",
      " | 4 | 5 | 6 |  | 4 | 5 | 6 |  | 4 | 5 | 6 | \n",
      " -------------  -------------  -------------\n",
      " | 7 | 8 | 9 |  | 7 | 8 | 9 |  | 7 | 8 | 9 | \n",
      " -------------  -------------  -------------\n",
      " -------------  -------------  -------------\n",
      " | 1 | 2 | 3 |  | 1 | 2 | 3 |  | 1 | 2 | 3 | \n",
      " -------------  -------------  -------------\n",
      " | 4 | 5 | 6 |  | 4 | 5 | 6 |  | 4 | 5 | 6 | \n",
      " -------------  -------------  -------------\n",
      " | 7 | 8 | 9 |  | 7 | 8 | 9 |  | 7 | 8 | 9 | \n",
      " -------------  -------------  -------------\n",
      " -------------  -------------  -------------\n",
      " | 1 | 2 | 3 |  | 1 | 2 | 3 |  | 1 | 2 | 3 | \n",
      " -------------  -------------  -------------\n",
      " | 4 | 5 | 6 |  | 4 | 5 | 6 |  | 4 | 5 | 6 | \n",
      " -------------  -------------  -------------\n",
      " | 7 | 8 | 9 |  | 7 | 8 | 9 |  | 7 | 8 | 9 | \n",
      " -------------  -------------  -------------\n"
     ]
    }
   ],
   "source": [
    "# test that the function displays the board\n",
    "\n",
    "test_board = [\"°\", \"1\", \"2\", \"3\", \"4\", \"5\", \"6\", \"7\", \"8\", \"9\"]\n",
    "display_board(test_board)"
   ]
  },
  {
   "cell_type": "markdown",
   "metadata": {},
   "source": [
    "# Only for tries - Soduko"
   ]
  },
  {
   "cell_type": "markdown",
   "metadata": {},
   "source": [
    "### Preparing the solved table and the displat function"
   ]
  },
  {
   "cell_type": "code",
   "execution_count": 30,
   "metadata": {},
   "outputs": [],
   "source": [
    "# Step 1\n",
    "\n",
    "# Create the soduku list\n",
    "\n",
    "\n",
    "def create_sudoku_solution():\n",
    "    small_box1 = ['3','1','6','5','2','9','4','8','7']\n",
    "    small_box2 = ['5','7','8','1','3','4','6','2','9']\n",
    "    small_box3 = ['4','9','2','7','6','8','5','3','1']\n",
    "    small_box4 = ['2','6','3','9','7','4','8','5','1']\n",
    "    small_box5 = ['4','1','5','8','6','3','7','9','2']\n",
    "    small_box6 = ['9','8','7','1','2','5','6','4','3']\n",
    "    small_box7 = ['1','3','8','6','9','2','7','4','5']\n",
    "    small_box8 = ['9','4','7','3','5','1','2','8','6']\n",
    "    small_box9 = ['2','5','6','8','7','4','3','1','9']\n",
    "    \n",
    "    solved_box = [small_box1,small_box2,small_box3,small_box4,small_box5,small_box6,small_box7,small_box8,small_box9]\n",
    "    \n",
    "#    print(small_box1[0:3], '|',small_box2[0:3], '|', small_box3[0:3])\n",
    "#    print(small_box1[3:6], '|',small_box2[3:6], '|', small_box3[3:6])\n",
    "#    print(small_box1[6:9], '|',small_box2[6:9], '|', small_box3[6:9])\n",
    "#    print('---------------------------------------------------')\n",
    "#    print(small_box4[0:3], '|',small_box5[0:3], '|', small_box6[0:3])\n",
    "#    print(small_box4[3:6], '|',small_box5[3:6], '|', small_box6[6:9])\n",
    "#    print(small_box4[6:9], '|',small_box5[6:9], '|', small_box6[6:9])\n",
    "#    print('---------------------------------------------------')\n",
    "#    print(small_box7[0:3], '|',small_box8[0:3], '|', small_box9[0:3])\n",
    "#    print(small_box7[3:6], '|',small_box8[3:6], '|', small_box9[6:9])\n",
    "#    print(small_box7[6:9], '|',small_box8[6:9], '|', small_box9[6:9])\n",
    "    \n",
    "    return solved_box\n",
    "\n",
    "\n",
    "\n",
    "\n"
   ]
  },
  {
   "cell_type": "code",
   "execution_count": 31,
   "metadata": {},
   "outputs": [],
   "source": [
    "# display_board() function !!\n",
    "\n",
    "\n",
    "\n",
    "from IPython.display import clear_output\n",
    "\n",
    "def display_board(big_box):\n",
    "    clear_output()\n",
    "\n",
    "    print(' -------------'                                                  '  -------------'                                         '  -------------')\n",
    "    print(' | ' + big_box[0][0] + ' | ' + big_box[0][1] + ' | ' + big_box[0][2] + ' | '' | ' + big_box[0][3] + ' | ' + big_box[0][4] + ' | ' + big_box[0][5] + ' | '' | ' + big_box[0][6] + ' | ' + big_box[0][7] + ' | ' + big_box[0][8] + ' | ')\n",
    "    print(' -------------'                                                  '  -------------'                                         '  -------------')\n",
    "    print(' | ' + big_box[1][0] + ' | ' + big_box[1][1] + ' | ' + big_box[1][2] + ' | '' | ' + big_box[1][3] + ' | ' + big_box[1][4] + ' | ' + big_box[1][5] + ' | '' | ' + big_box[1][6] + ' | ' + big_box[1][7] + ' | ' + big_box[1][8] + ' | ')\n",
    "    print(' -------------'                                                  '  -------------'                                         '  -------------')\n",
    "    print(' | ' + big_box[2][0] + ' | ' + big_box[2][1] + ' | ' + big_box[2][2] + ' | '' | ' + big_box[2][3] + ' | ' + big_box[2][4] + ' | ' + big_box[2][5] + ' | '' | ' + big_box[2][6] + ' | ' + big_box[2][7] + ' | ' + big_box[2][8] + ' | ')\n",
    "    print(' -------------'                                                  '  -------------'                                         '  -------------')\n",
    "    print(' -------------'                                                  '  -------------'                                         '  -------------')\n",
    "    print(' | ' + big_box[3][0] + ' | ' + big_box[3][1] + ' | ' + big_box[3][2] + ' | '' | ' + big_box[3][3] + ' | ' + big_box[3][4] + ' | ' + big_box[3][5] + ' | '' | ' + big_box[3][6] + ' | ' + big_box[3][7] + ' | ' + big_box[3][8] + ' | ')\n",
    "    print(' -------------'                                                  '  -------------'                                         '  -------------')\n",
    "    print(' | ' + big_box[4][0] + ' | ' + big_box[4][1] + ' | ' + big_box[4][2] + ' | '' | ' + big_box[4][3] + ' | ' + big_box[4][4] + ' | ' + big_box[4][5] + ' | '' | ' + big_box[4][6] + ' | ' + big_box[4][7] + ' | ' + big_box[4][8] + ' | ')\n",
    "    print(' -------------'                                                  '  -------------'                                         '  -------------')\n",
    "    print(' | ' + big_box[5][0] + ' | ' + big_box[5][1] + ' | ' + big_box[5][2] + ' | '' | ' + big_box[5][3] + ' | ' + big_box[5][4] + ' | ' + big_box[5][5] + ' | '' | ' + big_box[5][6] + ' | ' + big_box[5][7] + ' | ' + big_box[5][8] + ' | ')\n",
    "    print(' -------------'                                                  '  -------------'                                         '  -------------')\n",
    "    print(' -------------'                                                  '  -------------'                                         '  -------------')\n",
    "    print(' | ' + big_box[6][0] + ' | ' + big_box[6][1] + ' | ' + big_box[6][2] + ' | '' | ' + big_box[6][3] + ' | ' + big_box[6][4] + ' | ' + big_box[6][5] + ' | '' | ' + big_box[6][6] + ' | ' + big_box[6][7] + ' | ' + big_box[6][8] + ' | ')\n",
    "    print(' -------------'                                                  '  -------------'                                         '  -------------')              \n",
    "    print(' | ' + big_box[7][0] + ' | ' + big_box[7][1] + ' | ' + big_box[7][2] + ' | '' | ' + big_box[7][3] + ' | ' + big_box[7][4] + ' | ' + big_box[7][5] + ' | '' | ' + big_box[7][6] + ' | ' + big_box[7][7] + ' | ' + big_box[7][8] + ' | ')\n",
    "    print(' -------------'                                                  '  -------------'                                         '  -------------')\n",
    "    print(' | ' + big_box[8][0] + ' | ' + big_box[8][1] + ' | ' + big_box[8][2] + ' | '' | ' + big_box[8][3] + ' | ' + big_box[8][4] + ' | ' + big_box[8][5] + ' | '' | ' + big_box[8][6] + ' | ' + big_box[8][7] + ' | ' + big_box[8][8] + ' | ')\n",
    "    print(' -------------'                                                  '  -------------'                                         '  -------------')\n"
   ]
  },
  {
   "cell_type": "code",
   "execution_count": 32,
   "metadata": {},
   "outputs": [],
   "source": [
    "solved_box = create_sudoku_solution()"
   ]
  },
  {
   "cell_type": "code",
   "execution_count": 33,
   "metadata": {},
   "outputs": [
    {
     "name": "stdout",
     "output_type": "stream",
     "text": [
      " -------------  -------------  -------------\n",
      " | 3 | 1 | 6 |  | 5 | 2 | 9 |  | 4 | 8 | 7 | \n",
      " -------------  -------------  -------------\n",
      " | 5 | 7 | 8 |  | 1 | 3 | 4 |  | 6 | 2 | 9 | \n",
      " -------------  -------------  -------------\n",
      " | 4 | 9 | 2 |  | 7 | 6 | 8 |  | 5 | 3 | 1 | \n",
      " -------------  -------------  -------------\n",
      " -------------  -------------  -------------\n",
      " | 2 | 6 | 3 |  | 9 | 7 | 4 |  | 8 | 5 | 1 | \n",
      " -------------  -------------  -------------\n",
      " | 4 | 1 | 5 |  | 8 | 6 | 3 |  | 7 | 9 | 2 | \n",
      " -------------  -------------  -------------\n",
      " | 9 | 8 | 7 |  | 1 | 2 | 5 |  | 6 | 4 | 3 | \n",
      " -------------  -------------  -------------\n",
      " -------------  -------------  -------------\n",
      " | 1 | 3 | 8 |  | 6 | 9 | 2 |  | 7 | 4 | 5 | \n",
      " -------------  -------------  -------------\n",
      " | 9 | 4 | 7 |  | 3 | 5 | 1 |  | 2 | 8 | 6 | \n",
      " -------------  -------------  -------------\n",
      " | 2 | 5 | 6 |  | 8 | 7 | 4 |  | 3 | 1 | 9 | \n",
      " -------------  -------------  -------------\n"
     ]
    }
   ],
   "source": [
    "# Checking that the create_sudoku_solution() and the display_board() is working!\n",
    "\n",
    "display_board(solved_box)"
   ]
  },
  {
   "cell_type": "markdown",
   "metadata": {},
   "source": [
    "### Step 2 Preparing the table ready to play "
   ]
  },
  {
   "cell_type": "code",
   "execution_count": 34,
   "metadata": {},
   "outputs": [],
   "source": [
    "# Now put STEP 2 in a function - this remove only from small_box\n",
    "\n",
    "import random\n",
    "\n",
    "def remove_number_from_small_box(small_box):\n",
    "    for item in range(3):\n",
    "        remove_number = str(random.randint(1,9)) # The number that is going to remove\n",
    "        for number in range(len(small_box)):\n",
    "            if small_box[number] == remove_number:\n",
    "                small_box[number] = ' '\n",
    "            \n",
    "    return small_box\n",
    "\n",
    "\n"
   ]
  },
  {
   "cell_type": "code",
   "execution_count": 35,
   "metadata": {},
   "outputs": [],
   "source": [
    "# Step 2.2 iterating over all the small boxes and return the big box ready to play!\n",
    "\n",
    "\n",
    "big_box = solved_box\n",
    "\n",
    "for small_box in big_box:\n",
    "    remove_number_from_small_box(small_box)"
   ]
  },
  {
   "cell_type": "code",
   "execution_count": 36,
   "metadata": {},
   "outputs": [
    {
     "name": "stdout",
     "output_type": "stream",
     "text": [
      " -------------  -------------  -------------\n",
      " |   | 1 |   |  | 5 |   | 9 |  | 4 | 8 | 7 | \n",
      " -------------  -------------  -------------\n",
      " |   | 7 | 8 |  | 1 | 3 | 4 |  |   | 2 |   | \n",
      " -------------  -------------  -------------\n",
      " |   | 9 | 2 |  | 7 | 6 | 8 |  |   | 3 | 1 | \n",
      " -------------  -------------  -------------\n",
      " -------------  -------------  -------------\n",
      " |   | 6 |   |  | 9 | 7 |   |  | 8 | 5 | 1 | \n",
      " -------------  -------------  -------------\n",
      " |   |   | 5 |  |   | 6 | 3 |  | 7 | 9 | 2 | \n",
      " -------------  -------------  -------------\n",
      " | 9 |   | 7 |  | 1 |   | 5 |  | 6 |   | 3 | \n",
      " -------------  -------------  -------------\n",
      " -------------  -------------  -------------\n",
      " | 1 | 3 | 8 |  | 6 | 9 |   |  |   | 4 |   | \n",
      " -------------  -------------  -------------\n",
      " | 9 | 4 | 7 |  | 3 |   |   |  | 2 | 8 | 6 | \n",
      " -------------  -------------  -------------\n",
      " | 2 | 5 | 6 |  |   | 7 |   |  | 3 | 1 | 9 | \n",
      " -------------  -------------  -------------\n"
     ]
    }
   ],
   "source": [
    "display_board(big_box)"
   ]
  },
  {
   "cell_type": "code",
   "execution_count": null,
   "metadata": {},
   "outputs": [],
   "source": []
  },
  {
   "cell_type": "code",
   "execution_count": null,
   "metadata": {},
   "outputs": [],
   "source": []
  },
  {
   "cell_type": "code",
   "execution_count": null,
   "metadata": {},
   "outputs": [],
   "source": [
    "  "
   ]
  },
  {
   "cell_type": "code",
   "execution_count": 11,
   "metadata": {},
   "outputs": [],
   "source": []
  },
  {
   "cell_type": "code",
   "execution_count": null,
   "metadata": {},
   "outputs": [],
   "source": []
  },
  {
   "cell_type": "code",
   "execution_count": null,
   "metadata": {},
   "outputs": [],
   "source": []
  },
  {
   "cell_type": "code",
   "execution_count": null,
   "metadata": {},
   "outputs": [],
   "source": []
  },
  {
   "cell_type": "code",
   "execution_count": null,
   "metadata": {},
   "outputs": [],
   "source": []
  },
  {
   "cell_type": "code",
   "execution_count": null,
   "metadata": {},
   "outputs": [],
   "source": []
  },
  {
   "cell_type": "code",
   "execution_count": null,
   "metadata": {},
   "outputs": [],
   "source": []
  },
  {
   "cell_type": "code",
   "execution_count": null,
   "metadata": {},
   "outputs": [],
   "source": []
  },
  {
   "cell_type": "code",
   "execution_count": null,
   "metadata": {},
   "outputs": [],
   "source": []
  },
  {
   "cell_type": "code",
   "execution_count": null,
   "metadata": {},
   "outputs": [],
   "source": []
  },
  {
   "cell_type": "code",
   "execution_count": null,
   "metadata": {},
   "outputs": [],
   "source": []
  },
  {
   "cell_type": "code",
   "execution_count": null,
   "metadata": {},
   "outputs": [],
   "source": []
  },
  {
   "cell_type": "code",
   "execution_count": null,
   "metadata": {},
   "outputs": [],
   "source": []
  },
  {
   "cell_type": "code",
   "execution_count": null,
   "metadata": {},
   "outputs": [],
   "source": []
  },
  {
   "cell_type": "code",
   "execution_count": null,
   "metadata": {},
   "outputs": [],
   "source": []
  },
  {
   "cell_type": "code",
   "execution_count": null,
   "metadata": {},
   "outputs": [],
   "source": []
  },
  {
   "cell_type": "code",
   "execution_count": null,
   "metadata": {},
   "outputs": [],
   "source": []
  },
  {
   "cell_type": "code",
   "execution_count": null,
   "metadata": {},
   "outputs": [],
   "source": []
  },
  {
   "cell_type": "code",
   "execution_count": null,
   "metadata": {},
   "outputs": [],
   "source": []
  },
  {
   "cell_type": "code",
   "execution_count": null,
   "metadata": {},
   "outputs": [],
   "source": []
  },
  {
   "cell_type": "code",
   "execution_count": null,
   "metadata": {},
   "outputs": [],
   "source": []
  },
  {
   "cell_type": "code",
   "execution_count": null,
   "metadata": {},
   "outputs": [],
   "source": []
  },
  {
   "cell_type": "code",
   "execution_count": null,
   "metadata": {},
   "outputs": [],
   "source": []
  },
  {
   "cell_type": "code",
   "execution_count": null,
   "metadata": {},
   "outputs": [],
   "source": []
  },
  {
   "cell_type": "code",
   "execution_count": null,
   "metadata": {},
   "outputs": [],
   "source": []
  },
  {
   "cell_type": "code",
   "execution_count": null,
   "metadata": {},
   "outputs": [],
   "source": []
  },
  {
   "cell_type": "code",
   "execution_count": null,
   "metadata": {},
   "outputs": [],
   "source": []
  },
  {
   "cell_type": "code",
   "execution_count": null,
   "metadata": {},
   "outputs": [],
   "source": []
  },
  {
   "cell_type": "code",
   "execution_count": null,
   "metadata": {},
   "outputs": [],
   "source": []
  },
  {
   "cell_type": "code",
   "execution_count": null,
   "metadata": {},
   "outputs": [],
   "source": []
  },
  {
   "cell_type": "code",
   "execution_count": null,
   "metadata": {},
   "outputs": [],
   "source": []
  },
  {
   "cell_type": "code",
   "execution_count": null,
   "metadata": {},
   "outputs": [],
   "source": []
  }
 ],
 "metadata": {
  "kernelspec": {
   "display_name": "Python 3",
   "language": "python",
   "name": "python3"
  },
  "language_info": {
   "codemirror_mode": {
    "name": "ipython",
    "version": 3
   },
   "file_extension": ".py",
   "mimetype": "text/x-python",
   "name": "python",
   "nbconvert_exporter": "python",
   "pygments_lexer": "ipython3",
   "version": "3.7.6"
  }
 },
 "nbformat": 4,
 "nbformat_minor": 5
}
