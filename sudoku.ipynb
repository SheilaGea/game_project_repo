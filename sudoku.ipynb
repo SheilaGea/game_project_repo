{
 "cells": [
  {
   "cell_type": "markdown",
   "metadata": {},
   "source": [
    "# Sudoku"
   ]
  },
  {
   "cell_type": "code",
   "execution_count": 301,
   "metadata": {},
   "outputs": [],
   "source": [
    "# Create an empty table\n",
    "\n",
    "from IPython.display import clear_output\n",
    "\n",
    "def display_board(board):\n",
    "    clear_output()\n",
    "\n",
    "    print(' -------------'                                                  '  -------------'                                         '  -------------')\n",
    "    print(' | ' + board[1] + ' | ' + board[2] + ' | ' + board[3] + ' | '' | ' + board[1] + ' | ' + board[2] + ' | ' + board[3] + ' | '' | ' + board[1] + ' | ' + board[2] + ' | ' + board[3] + ' | ')\n",
    "    print(' -------------'                                                  '  -------------'                                         '  -------------')\n",
    "    print(' | ' + board[4] + ' | ' + board[5] + ' | ' + board[6] + ' | '' | ' + board[4] + ' | ' + board[5] + ' | ' + board[6] + ' | '' | ' + board[4] + ' | ' + board[5] + ' | ' + board[6] + ' | ')\n",
    "    print(' -------------'                                                  '  -------------'                                         '  -------------')\n",
    "    print(' | ' + board[7] + ' | ' + board[8] + ' | ' + board[9] + ' | '' | ' + board[7] + ' | ' + board[8] + ' | ' + board[9] + ' | '' | ' + board[7] + ' | ' + board[8] + ' | ' + board[9] + ' | ')\n",
    "    print(' -------------'                                                  '  -------------'                                         '  -------------')\n",
    "    print(' -------------'                                                  '  -------------'                                         '  -------------')\n",
    "    print(' | ' + board[1] + ' | ' + board[2] + ' | ' + board[3] + ' | '' | ' + board[1] + ' | ' + board[2] + ' | ' + board[3] + ' | '' | ' + board[1] + ' | ' + board[2] + ' | ' + board[3] + ' | ')\n",
    "    print(' -------------'                                                  '  -------------'                                         '  -------------')\n",
    "    print(' | ' + board[4] + ' | ' + board[5] + ' | ' + board[6] + ' | '' | ' + board[4] + ' | ' + board[5] + ' | ' + board[6] + ' | '' | ' + board[4] + ' | ' + board[5] + ' | ' + board[6] + ' | ')\n",
    "    print(' -------------'                                                  '  -------------'                                         '  -------------')\n",
    "    print(' | ' + board[7] + ' | ' + board[8] + ' | ' + board[9] + ' | '' | ' + board[7] + ' | ' + board[8] + ' | ' + board[9] + ' | '' | ' + board[7] + ' | ' + board[8] + ' | ' + board[9] + ' | ')\n",
    "    print(' -------------'                                                  '  -------------'                                         '  -------------')\n",
    "    print(' -------------'                                                  '  -------------'                                         '  -------------')\n",
    "    print(' | ' + board[1] + ' | ' + board[2] + ' | ' + board[3] + ' | '' | ' + board[1] + ' | ' + board[2] + ' | ' + board[3] + ' | '' | ' + board[1] + ' | ' + board[2] + ' | ' + board[3] + ' | ')\n",
    "    print(' -------------'                                                  '  -------------'                                         '  -------------')              \n",
    "    print(' | ' + board[4] + ' | ' + board[5] + ' | ' + board[6] + ' | '' | ' + board[4] + ' | ' + board[5] + ' | ' + board[6] + ' | '' | ' + board[4] + ' | ' + board[5] + ' | ' + board[6] + ' | ')\n",
    "    print(' -------------'                                                  '  -------------'                                         '  -------------')\n",
    "    print(' | ' + board[7] + ' | ' + board[8] + ' | ' + board[9] + ' | '' | ' + board[7] + ' | ' + board[8] + ' | ' + board[9] + ' | '' | ' + board[7] + ' | ' + board[8] + ' | ' + board[9] + ' | ')\n",
    "    print(' -------------'                                                  '  -------------'                                         '  -------------')\n"
   ]
  },
  {
   "cell_type": "code",
   "execution_count": 302,
   "metadata": {},
   "outputs": [],
   "source": [
    "# test that the function displays the board\n",
    "\n",
    "test_board = [\"°\", \"1\", \"2\", \"3\", \"4\", \"5\", \"6\", \"7\", \"8\", \"9\"]\n",
    "#display_board(test_board)"
   ]
  },
  {
   "cell_type": "code",
   "execution_count": null,
   "metadata": {},
   "outputs": [],
   "source": []
  },
  {
   "cell_type": "markdown",
   "metadata": {},
   "source": [
    "# Only for tries - Soduko"
   ]
  },
  {
   "cell_type": "markdown",
   "metadata": {},
   "source": [
    "### Preparing the solved table and the displat function"
   ]
  },
  {
   "cell_type": "code",
   "execution_count": 332,
   "metadata": {},
   "outputs": [],
   "source": [
    "# Step 1\n",
    "\n",
    "# Create the soduku list\n",
    "\n",
    "\n",
    "def create_sudoku_solution():\n",
    "    small_box0 = ['#','#','#','#','#','#','#','#','#','#']\n",
    "    small_box1 = ['#','3','1','6','5','7','8','4','9','2']\n",
    "    small_box2 = ['#','5','2','9','1','3','4','7','6','8']\n",
    "    small_box3 = ['#','4','8','7','6','2','9','5','3','1']\n",
    "    small_box4 = ['#','2','6','3','4','1','5','9','8','7']\n",
    "    small_box5 = ['#','9','7','4','8','6','3','1','2','5']\n",
    "    small_box6 = ['#','8','5','1','7','9','2','6','4','3']\n",
    "    small_box7 = ['#','1','3','8','9','4','7','2','5','6']\n",
    "    small_box8 = ['#','6','9','2','3','5','1','8','7','4']\n",
    "    small_box9 = ['#','7','4','5','2','8','6','3','1','9']\n",
    "    \n",
    "    solved_box = [small_box0,small_box1,small_box2,small_box3,small_box4,small_box5,small_box6,small_box7,small_box8,small_box9]\n",
    "    \n",
    "#    print(small_box1[0:3], '|',small_box2[0:3], '|', small_box3[0:3])\n",
    "#    print(small_box1[3:6], '|',small_box2[3:6], '|', small_box3[3:6])\n",
    "#    print(small_box1[6:9], '|',small_box2[6:9], '|', small_box3[6:9])\n",
    "#    print('---------------------------------------------------')\n",
    "#    print(small_box4[0:3], '|',small_box5[0:3], '|', small_box6[0:3])\n",
    "#    print(small_box4[3:6], '|',small_box5[3:6], '|', small_box6[6:9])\n",
    "#    print(small_box4[6:9], '|',small_box5[6:9], '|', small_box6[6:9])\n",
    "#    print('---------------------------------------------------')\n",
    "#    print(small_box7[0:3], '|',small_box8[0:3], '|', small_box9[0:3])\n",
    "#    print(small_box7[3:6], '|',small_box8[3:6], '|', small_box9[6:9])\n",
    "#    print(small_box7[6:9], '|',small_box8[6:9], '|', small_box9[6:9])\n",
    "    \n",
    "    return solved_box\n",
    "\n",
    "\n",
    "\n",
    "\n"
   ]
  },
  {
   "cell_type": "code",
   "execution_count": null,
   "metadata": {},
   "outputs": [],
   "source": []
  },
  {
   "cell_type": "code",
   "execution_count": 333,
   "metadata": {},
   "outputs": [
    {
     "name": "stdout",
     "output_type": "stream",
     "text": [
      "Defaulting to user installation because normal site-packages is not writeable\n",
      "Requirement already satisfied: termcolor in c:\\users\\lenovo\\appdata\\roaming\\python\\python312\\site-packages (3.1.0)\n"
     ]
    }
   ],
   "source": [
    "import sys\n",
    "!\"{sys.executable}\" -m pip install termcolor\n",
    "from termcolor import colored"
   ]
  },
  {
   "cell_type": "code",
   "execution_count": 334,
   "metadata": {},
   "outputs": [],
   "source": [
    "# display_board() function !!\n",
    "\n",
    "\n",
    "from IPython.display import clear_output\n",
    "\n",
    "def display_board(big_box):\n",
    "    clear_output()\n",
    "\n",
    "    print(colored('     1' + '   2' + '   3 ' + '     4' + '   5' + '   6 '+ '     7' + '   8' + '   9 ' , 'blue' ))\n",
    "    print('   -------------'                                                  '  -------------'                                         '  -------------')\n",
    "    print(colored('1','red'),(' | ' + big_box[1][1] + ' | ' + big_box[1][2] + ' | ' + big_box[1][3] + ' | '' | ' + big_box[1][4] + ' | ' + big_box[1][5] + ' | ' + big_box[1][6] + ' | '' | ' + big_box[1][7] + ' | ' + big_box[1][8] + ' | ' + big_box[1][9] + ' | '))\n",
    "    print('   -------------'                                                  '  -------------'                                         '  -------------')\n",
    "    print(colored('2','red'),(' | ' + big_box[2][1] + ' | ' + big_box[2][2] + ' | ' + big_box[2][3] + ' | '' | ' + big_box[2][4] + ' | ' + big_box[2][5] + ' | ' + big_box[2][6] + ' | '' | ' + big_box[2][7] + ' | ' + big_box[2][8] + ' | ' + big_box[2][9] + ' | '))\n",
    "    print('   -------------'                                                  '  -------------'                                         '  -------------')\n",
    "    print(colored('3','red'),(' | ' + big_box[3][1] + ' | ' + big_box[3][2] + ' | ' + big_box[3][3] + ' | '' | ' + big_box[3][4] + ' | ' + big_box[3][5] + ' | ' + big_box[3][6] + ' | '' | ' + big_box[3][7] + ' | ' + big_box[3][8] + ' | ' + big_box[3][9] + ' | '))\n",
    "    print('   -------------'                                                  '  -------------'                                         '  -------------')\n",
    "    print('   -------------'                                                  '  -------------'                                         '  -------------')\n",
    "    print(colored('4','red'),(' | ' + big_box[4][1] + ' | ' + big_box[4][2] + ' | ' + big_box[4][3] + ' | '' | ' + big_box[4][4] + ' | ' + big_box[4][5] + ' | ' + big_box[4][6] + ' | '' | ' + big_box[4][7] + ' | ' + big_box[4][8] + ' | ' + big_box[4][9] + ' | '))\n",
    "    print('   -------------'                                                  '  -------------'                                         '  -------------')\n",
    "    print(colored('5','red'),(' | ' + big_box[5][1] + ' | ' + big_box[5][2] + ' | ' + big_box[5][3] + ' | '' | ' + big_box[5][4] + ' | ' + big_box[5][5] + ' | ' + big_box[5][6] + ' | '' | ' + big_box[5][7] + ' | ' + big_box[5][8] + ' | ' + big_box[5][9] + ' | '))\n",
    "    print('   -------------'                                                  '  -------------'                                         '  -------------')\n",
    "    print(colored('6','red'),(' | ' + big_box[6][1] + ' | ' + big_box[6][2] + ' | ' + big_box[6][3] + ' | '' | ' + big_box[6][4] + ' | ' + big_box[6][5] + ' | ' + big_box[6][6] + ' | '' | ' + big_box[6][7] + ' | ' + big_box[6][8] + ' | ' + big_box[6][9] + ' | '))\n",
    "    print('   -------------'                                                  '  -------------'                                         '  -------------')\n",
    "    print('   -------------'                                                  '  -------------'                                         '  -------------')\n",
    "    print(colored('7','red'),(' | ' + big_box[7][1] + ' | ' + big_box[7][2] + ' | ' + big_box[7][3] + ' | '' | ' + big_box[7][4] + ' | ' + big_box[7][5] + ' | ' + big_box[7][6] + ' | '' | ' + big_box[7][7] + ' | ' + big_box[7][8] + ' | ' + big_box[7][9] + ' | '))\n",
    "    print('   -------------'                                                  '  -------------'                                         '  -------------')              \n",
    "    print(colored('8','red'),(' | ' + big_box[8][1] + ' | ' + big_box[8][2] + ' | ' + big_box[8][3] + ' | '' | ' + big_box[8][4] + ' | ' + big_box[8][5] + ' | ' + big_box[8][6] + ' | '' | ' + big_box[8][7] + ' | ' + big_box[8][8] + ' | ' + big_box[8][9] + ' | '))\n",
    "    print('   -------------'                                                  '  -------------'                                         '  -------------')\n",
    "    print(colored('9','red'),(' | ' + big_box[9][1] + ' | ' + big_box[9][2] + ' | ' + big_box[9][3] + ' | '' | ' + big_box[9][4] + ' | ' + big_box[9][5] + ' | ' + big_box[9][6] + ' | '' | ' + big_box[9][7] + ' | ' + big_box[9][8] + ' | ' + big_box[9][9] + ' | '))\n",
    "    print('   -------------'                                                  '  -------------'                                         '  -------------')\n"
   ]
  },
  {
   "cell_type": "code",
   "execution_count": 335,
   "metadata": {},
   "outputs": [],
   "source": [
    "solved_box = create_sudoku_solution()"
   ]
  },
  {
   "cell_type": "code",
   "execution_count": 336,
   "metadata": {},
   "outputs": [],
   "source": [
    "#display_board(solved_box)"
   ]
  },
  {
   "cell_type": "code",
   "execution_count": 337,
   "metadata": {},
   "outputs": [],
   "source": [
    "# Checking that the create_sudoku_solution() and the display_board() is working!\n",
    "\n",
    "#display_board(solved_box)"
   ]
  },
  {
   "cell_type": "markdown",
   "metadata": {},
   "source": [
    "### Step 2 Preparing the table ready to play "
   ]
  },
  {
   "cell_type": "code",
   "execution_count": 338,
   "metadata": {},
   "outputs": [],
   "source": [
    "def game_level():\n",
    "        \n",
    "    game_level = 0\n",
    "    \n",
    "    while not (game_level == 1 or game_level == 2 or game_level == 3):\n",
    "        game_level = int(input(\"Choose 1 for EASY 2 for MEDIUM and 3 for HARD \"))\n",
    "        \n",
    "    return game_level\n",
    "    \n"
   ]
  },
  {
   "cell_type": "code",
   "execution_count": 339,
   "metadata": {},
   "outputs": [],
   "source": [
    "#game_level()"
   ]
  },
  {
   "cell_type": "code",
   "execution_count": 340,
   "metadata": {},
   "outputs": [],
   "source": [
    "# Now put STEP 2 in a function - this remove only from small_box\n",
    "\n",
    "import random\n",
    "\n",
    "def remove_number_from_small_box(small_box):\n",
    "    for item in range(game_level+5):\n",
    "        remove_number = str(random.randint(1,9)) # The number that is going to remove\n",
    "        for number in range(len(small_box)):\n",
    "            if small_box[number] == remove_number:\n",
    "                small_box[number] = ' '\n",
    "                \n",
    "            \n",
    "    return small_box \n",
    "\n",
    "\n"
   ]
  },
  {
   "cell_type": "code",
   "execution_count": 341,
   "metadata": {},
   "outputs": [],
   "source": [
    "# Step 2.2 iterating over all the small boxes and return the big box ready to play!\n",
    "import copy\n",
    "\n",
    "big_box = copy.deepcopy(solved_box)\n",
    "\n",
    "def create_big_box(box):\n",
    "    for small_box in box:\n",
    "        remove_number_from_small_box(small_box)\n",
    "    return box\n",
    "\n",
    "#big_box = create_big_box(big_box)\n",
    "\n"
   ]
  },
  {
   "cell_type": "code",
   "execution_count": 342,
   "metadata": {},
   "outputs": [],
   "source": [
    "#display_board(solved_box)"
   ]
  },
  {
   "cell_type": "code",
   "execution_count": 343,
   "metadata": {},
   "outputs": [],
   "source": [
    "#display_board(big_box)"
   ]
  },
  {
   "cell_type": "code",
   "execution_count": 344,
   "metadata": {},
   "outputs": [],
   "source": [
    "# Step 3.0 - Choose a number\n",
    "\n",
    "def player_number_input():\n",
    "    \n",
    "    number_input = 0\n",
    "    \n",
    "    while not (number_input >= 1 and number_input <= 9):\n",
    "        print(\"\\033[92mChoose number between 1 to 9\\033[0m\")\n",
    "        number_input = int(input(\" \")) \n",
    "        \n",
    "    number_input = str(number_input)\n",
    "    return number_input\n",
    "\n",
    "\n"
   ]
  },
  {
   "cell_type": "code",
   "execution_count": 345,
   "metadata": {},
   "outputs": [],
   "source": [
    "#number_input = player_number_input()"
   ]
  },
  {
   "cell_type": "code",
   "execution_count": 346,
   "metadata": {},
   "outputs": [],
   "source": [
    "# Step 3.1\n",
    "\n",
    "#def player_position_input():\n",
    "    \n",
    "#    row_input= -1\n",
    "#    colum_input = -1\n",
    "    \n",
    "#    while not (row_input >= 0  and row_input <= 8):\n",
    "#            row_input = int(input(\"\\033[91m Choose Row number between 0 to 8\"))\n",
    "        \n",
    "#    while not (colum_input  >= 0 and colum_input <= 8):\n",
    "#            colum_input = int(input(\"\\033[94m Choose Colum number between 0 to 8\"))\n",
    "           \n",
    "#    position = [row_input, colum_input] \n",
    "#    return position\n"
   ]
  },
  {
   "cell_type": "code",
   "execution_count": 347,
   "metadata": {},
   "outputs": [],
   "source": [
    "# Step 3.1\n",
    "\n",
    "def player_position_input():\n",
    "    row_input = -1\n",
    "    colum_input = -1\n",
    "    \n",
    "    # Row input\n",
    "    while not (1 <= row_input <= 9):\n",
    "        print(\"\\033[91mChoose Row number between 1 to 9\\033[0m\")\n",
    "        row_input = int(input(\" \"))\n",
    "        \n",
    "    # Column input\n",
    "    while not (1 <= colum_input <= 9):\n",
    "        print(\"\\033[94mChoose Column number between 1 to 9\\033[0m\")\n",
    "        colum_input = int(input(\" \"))\n",
    "        \n",
    "    position = [row_input, colum_input]\n",
    "    return position\n"
   ]
  },
  {
   "cell_type": "code",
   "execution_count": 348,
   "metadata": {},
   "outputs": [],
   "source": [
    "#position = player_position_input()"
   ]
  },
  {
   "cell_type": "code",
   "execution_count": 349,
   "metadata": {},
   "outputs": [],
   "source": [
    "# Step 3.2 Write a function that takes in the board list object, a number, and the desired position of the number\n",
    "\n",
    "def place_marker(big_box, number_input, position):\n",
    "    big_box[position[0]][position[1]] = number_input\n",
    "\n"
   ]
  },
  {
   "cell_type": "code",
   "execution_count": 350,
   "metadata": {},
   "outputs": [],
   "source": [
    "#place_marker(big_box, number_input, position)\n",
    "#display_board(big_box)"
   ]
  },
  {
   "cell_type": "code",
   "execution_count": 351,
   "metadata": {},
   "outputs": [],
   "source": [
    "# Write a function that checks if the space on the board is free\n",
    "\n",
    "def space_check(big_box, position): #position = [5,8]\n",
    "    return big_box[position[0]][position[1]] == \" \"\n",
    "\n",
    "# Return True if the position is empty  "
   ]
  },
  {
   "cell_type": "code",
   "execution_count": 352,
   "metadata": {},
   "outputs": [],
   "source": [
    "#space_check(big_box, position)"
   ]
  },
  {
   "cell_type": "code",
   "execution_count": 353,
   "metadata": {},
   "outputs": [],
   "source": [
    "def full_board_check(big_box):\n",
    "    for idx, x in enumerate(big_box):\n",
    "        for jdx, j in enumerate(x):\n",
    "            check_position = [idx,jdx]\n",
    "            if space_check(big_box,check_position):\n",
    "                return False\n",
    "\n",
    "    return True"
   ]
  },
  {
   "cell_type": "code",
   "execution_count": 354,
   "metadata": {},
   "outputs": [],
   "source": [
    "#full_board_check(big_box)"
   ]
  },
  {
   "cell_type": "code",
   "execution_count": 355,
   "metadata": {},
   "outputs": [],
   "source": [
    "# Change a place if its full \n",
    "\n",
    "def change_number_in_place(big_box, number_input, position):\n",
    "    if not space_check(big_box,position):\n",
    "        \n",
    "        \n",
    "        delete_decision = ''\n",
    "        \n",
    "        while not (delete_decision == 'yes' or delete_decision == \"no\"):\n",
    "            delete_decision = input(\"That position if full, do you want to erase it??\").lower()\n",
    "            \n",
    "            if delete_decision  == \"yes\":\n",
    "                place_marker(big_box, ' ', position)\n",
    "                \n",
    "        \n",
    "        player_decision = ''\n",
    "        \n",
    "        while not (player_decision == \"yes\" or player_decision == \"no\"):\n",
    "            player_decision = input(\"Do you want to change the number in that position? wrtie yes or no\").lower()\n",
    "            \n",
    "        if player_decision == \"yes\":\n",
    "            place_marker(big_box, number_input, position)\n",
    "        else:\n",
    "            print(\"Number in that position did not change\")\n",
    "            \n",
    "\n",
    "    \n"
   ]
  },
  {
   "cell_type": "code",
   "execution_count": 356,
   "metadata": {},
   "outputs": [],
   "source": [
    "#change_number_in_place(big_box, number_input, position)"
   ]
  },
  {
   "cell_type": "code",
   "execution_count": null,
   "metadata": {},
   "outputs": [],
   "source": []
  },
  {
   "cell_type": "code",
   "execution_count": 357,
   "metadata": {},
   "outputs": [],
   "source": [
    "# Compare player solution to solve_solution\n",
    "\n",
    "def compare_solutions(big_box, solved_box):\n",
    "    return big_box == solved_box\n",
    "\n",
    "#copare_solutions(big_box, solved_box)"
   ]
  },
  {
   "cell_type": "code",
   "execution_count": null,
   "metadata": {},
   "outputs": [],
   "source": []
  },
  {
   "cell_type": "markdown",
   "metadata": {},
   "source": [
    "# Make the Logic!!!!"
   ]
  },
  {
   "cell_type": "code",
   "execution_count": null,
   "metadata": {},
   "outputs": [],
   "source": []
  },
  {
   "cell_type": "code",
   "execution_count": 358,
   "metadata": {},
   "outputs": [
    {
     "name": "stdout",
     "output_type": "stream",
     "text": [
      "\u001b[34m     1   2   3      4   5   6      7   8   9 \u001b[0m\n",
      "   -------------  -------------  -------------\n",
      "\u001b[31m1\u001b[0m  |   |   |   |  |   |   | 8 |  | 4 | 9 | 2 | \n",
      "   -------------  -------------  -------------\n",
      "\u001b[31m2\u001b[0m  | 7 |   |   |  |   | 3 |   |  | 7 |   |   | \n",
      "   -------------  -------------  -------------\n",
      "\u001b[31m3\u001b[0m  |   |   | 7 |  |   |   | 9 |  | 5 | 3 |   | \n",
      "   -------------  -------------  -------------\n",
      "   -------------  -------------  -------------\n",
      "\u001b[31m4\u001b[0m  |   |   |   |  | 4 |   | 5 |  | 9 |   | 7 | \n",
      "   -------------  -------------  -------------\n",
      "\u001b[31m5\u001b[0m  |   |   | 4 |  |   |   | 3 |  |   | 2 |   | \n",
      "   -------------  -------------  -------------\n",
      "\u001b[31m6\u001b[0m  | 8 | 5 |   |  |   |   | 2 |  |   |   | 3 | \n",
      "   -------------  -------------  -------------\n",
      "   -------------  -------------  -------------\n",
      "\u001b[31m7\u001b[0m  |   |   | 8 |  | 9 |   | 7 |  | 2 |   |   | \n",
      "   -------------  -------------  -------------\n",
      "\u001b[31m8\u001b[0m  | 6 |   | 2 |  |   |   | 1 |  | 8 |   |   | \n",
      "   -------------  -------------  -------------\n",
      "\u001b[31m9\u001b[0m  |   | 4 |   |  | 2 | 8 | 6 |  |   | 1 |   | \n",
      "   -------------  -------------  -------------\n",
      "\u001b[92mChoose number between 1 to 9\u001b[0m\n"
     ]
    },
    {
     "ename": "KeyboardInterrupt",
     "evalue": "Interrupted by user",
     "output_type": "error",
     "traceback": [
      "\u001b[31m---------------------------------------------------------------------------\u001b[39m",
      "\u001b[31mKeyboardInterrupt\u001b[39m                         Traceback (most recent call last)",
      "\u001b[36mCell\u001b[39m\u001b[36m \u001b[39m\u001b[32mIn[358]\u001b[39m\u001b[32m, line 25\u001b[39m\n\u001b[32m     21\u001b[39m display_board(big_box)\n\u001b[32m     23\u001b[39m \u001b[38;5;28;01mwhile\u001b[39;00m \u001b[38;5;129;01mnot\u001b[39;00m full_board_check(big_box):\n\u001b[32m---> \u001b[39m\u001b[32m25\u001b[39m     number_input = \u001b[43mplayer_number_input\u001b[49m\u001b[43m(\u001b[49m\u001b[43m)\u001b[49m\n\u001b[32m     27\u001b[39m     position = player_position_input()\n\u001b[32m     29\u001b[39m     \u001b[38;5;28;01mif\u001b[39;00m space_check(big_box, position):\n",
      "\u001b[36mCell\u001b[39m\u001b[36m \u001b[39m\u001b[32mIn[344]\u001b[39m\u001b[32m, line 9\u001b[39m, in \u001b[36mplayer_number_input\u001b[39m\u001b[34m()\u001b[39m\n\u001b[32m      7\u001b[39m \u001b[38;5;28;01mwhile\u001b[39;00m \u001b[38;5;129;01mnot\u001b[39;00m (number_input >= \u001b[32m1\u001b[39m \u001b[38;5;129;01mand\u001b[39;00m number_input <= \u001b[32m9\u001b[39m):\n\u001b[32m      8\u001b[39m     \u001b[38;5;28mprint\u001b[39m(\u001b[33m\"\u001b[39m\u001b[38;5;130;01m\\033\u001b[39;00m\u001b[33m[92mChoose number between 1 to 9\u001b[39m\u001b[38;5;130;01m\\033\u001b[39;00m\u001b[33m[0m\u001b[39m\u001b[33m\"\u001b[39m)\n\u001b[32m----> \u001b[39m\u001b[32m9\u001b[39m     number_input = \u001b[38;5;28mint\u001b[39m(\u001b[38;5;28;43minput\u001b[39;49m\u001b[43m(\u001b[49m\u001b[33;43m\"\u001b[39;49m\u001b[33;43m \u001b[39;49m\u001b[33;43m\"\u001b[39;49m\u001b[43m)\u001b[49m) \n\u001b[32m     11\u001b[39m number_input = \u001b[38;5;28mstr\u001b[39m(number_input)\n\u001b[32m     12\u001b[39m \u001b[38;5;28;01mreturn\u001b[39;00m number_input\n",
      "\u001b[36mFile \u001b[39m\u001b[32m~\\AppData\\Roaming\\Python\\Python312\\site-packages\\ipykernel\\kernelbase.py:1275\u001b[39m, in \u001b[36mKernel.raw_input\u001b[39m\u001b[34m(self, prompt)\u001b[39m\n\u001b[32m   1273\u001b[39m     msg = \u001b[33m\"\u001b[39m\u001b[33mraw_input was called, but this frontend does not support input requests.\u001b[39m\u001b[33m\"\u001b[39m\n\u001b[32m   1274\u001b[39m     \u001b[38;5;28;01mraise\u001b[39;00m StdinNotImplementedError(msg)\n\u001b[32m-> \u001b[39m\u001b[32m1275\u001b[39m \u001b[38;5;28;01mreturn\u001b[39;00m \u001b[38;5;28;43mself\u001b[39;49m\u001b[43m.\u001b[49m\u001b[43m_input_request\u001b[49m\u001b[43m(\u001b[49m\n\u001b[32m   1276\u001b[39m \u001b[43m    \u001b[49m\u001b[38;5;28;43mstr\u001b[39;49m\u001b[43m(\u001b[49m\u001b[43mprompt\u001b[49m\u001b[43m)\u001b[49m\u001b[43m,\u001b[49m\n\u001b[32m   1277\u001b[39m \u001b[43m    \u001b[49m\u001b[38;5;28;43mself\u001b[39;49m\u001b[43m.\u001b[49m\u001b[43m_parent_ident\u001b[49m\u001b[43m[\u001b[49m\u001b[33;43m\"\u001b[39;49m\u001b[33;43mshell\u001b[39;49m\u001b[33;43m\"\u001b[39;49m\u001b[43m]\u001b[49m\u001b[43m,\u001b[49m\n\u001b[32m   1278\u001b[39m \u001b[43m    \u001b[49m\u001b[38;5;28;43mself\u001b[39;49m\u001b[43m.\u001b[49m\u001b[43mget_parent\u001b[49m\u001b[43m(\u001b[49m\u001b[33;43m\"\u001b[39;49m\u001b[33;43mshell\u001b[39;49m\u001b[33;43m\"\u001b[39;49m\u001b[43m)\u001b[49m\u001b[43m,\u001b[49m\n\u001b[32m   1279\u001b[39m \u001b[43m    \u001b[49m\u001b[43mpassword\u001b[49m\u001b[43m=\u001b[49m\u001b[38;5;28;43;01mFalse\u001b[39;49;00m\u001b[43m,\u001b[49m\n\u001b[32m   1280\u001b[39m \u001b[43m\u001b[49m\u001b[43m)\u001b[49m\n",
      "\u001b[36mFile \u001b[39m\u001b[32m~\\AppData\\Roaming\\Python\\Python312\\site-packages\\ipykernel\\kernelbase.py:1320\u001b[39m, in \u001b[36mKernel._input_request\u001b[39m\u001b[34m(self, prompt, ident, parent, password)\u001b[39m\n\u001b[32m   1317\u001b[39m \u001b[38;5;28;01mexcept\u001b[39;00m \u001b[38;5;167;01mKeyboardInterrupt\u001b[39;00m:\n\u001b[32m   1318\u001b[39m     \u001b[38;5;66;03m# re-raise KeyboardInterrupt, to truncate traceback\u001b[39;00m\n\u001b[32m   1319\u001b[39m     msg = \u001b[33m\"\u001b[39m\u001b[33mInterrupted by user\u001b[39m\u001b[33m\"\u001b[39m\n\u001b[32m-> \u001b[39m\u001b[32m1320\u001b[39m     \u001b[38;5;28;01mraise\u001b[39;00m \u001b[38;5;167;01mKeyboardInterrupt\u001b[39;00m(msg) \u001b[38;5;28;01mfrom\u001b[39;00m\u001b[38;5;250m \u001b[39m\u001b[38;5;28;01mNone\u001b[39;00m\n\u001b[32m   1321\u001b[39m \u001b[38;5;28;01mexcept\u001b[39;00m \u001b[38;5;167;01mException\u001b[39;00m:\n\u001b[32m   1322\u001b[39m     \u001b[38;5;28mself\u001b[39m.log.warning(\u001b[33m\"\u001b[39m\u001b[33mInvalid Message:\u001b[39m\u001b[33m\"\u001b[39m, exc_info=\u001b[38;5;28;01mTrue\u001b[39;00m)\n",
      "\u001b[31mKeyboardInterrupt\u001b[39m: Interrupted by user"
     ]
    }
   ],
   "source": [
    "# Step 1: Creating the solved_box and the big_box\n",
    "\n",
    "solved_box = create_sudoku_solution()\n",
    "#display_board(solved_box)\n",
    "\n",
    "# Choose game level\n",
    "\n",
    "game_level = game_level()\n",
    "\n",
    "\n",
    "\n",
    "big_box = copy.deepcopy(solved_box)\n",
    "big_box = create_big_box(big_box)\n",
    "#display_board(big_box)\n",
    "\n",
    " \n",
    "\n",
    "\n",
    "# Step 2: Play!!\n",
    "\n",
    "display_board(big_box)\n",
    "              \n",
    "while not full_board_check(big_box):\n",
    "        \n",
    "    number_input = player_number_input()\n",
    "    \n",
    "    position = player_position_input()\n",
    "    \n",
    "    if space_check(big_box, position):\n",
    "        place_marker(big_box, number_input, position)\n",
    "    else:\n",
    "        change_number_in_place(big_box, number_input, position)\n",
    "        \n",
    "    display_board(big_box)            \n",
    "        \n",
    "# Step 3: Compare big_box to solved_box       \n",
    "        \n",
    "print(\"Your board is:\")\n",
    "print(display_board(big_box))\n",
    "print(\"The soluting board is:\")\n",
    "print(display_board(solved_box))\n",
    "\n",
    "if compare_solutions(big_box, solved_box):\n",
    "    print(\"\\033[95mCongartulations!! YOU ROCK!!\\033[0m\")\n",
    "else:\n",
    "    print(\"\\033[95mYour'e wrong...\\033[0m\")\n",
    "\n"
   ]
  },
  {
   "cell_type": "code",
   "execution_count": 430,
   "metadata": {},
   "outputs": [],
   "source": [
    "#print(display_board(solved_box))"
   ]
  },
  {
   "cell_type": "code",
   "execution_count": null,
   "metadata": {},
   "outputs": [],
   "source": []
  },
  {
   "cell_type": "code",
   "execution_count": null,
   "metadata": {},
   "outputs": [],
   "source": []
  },
  {
   "cell_type": "code",
   "execution_count": null,
   "metadata": {},
   "outputs": [],
   "source": []
  }
 ],
 "metadata": {
  "kernelspec": {
   "display_name": "Python 3.12",
   "language": "python",
   "name": "python312"
  },
  "language_info": {
   "codemirror_mode": {
    "name": "ipython",
    "version": 3
   },
   "file_extension": ".py",
   "mimetype": "text/x-python",
   "name": "python",
   "nbconvert_exporter": "python",
   "pygments_lexer": "ipython3",
   "version": "3.12.2"
  }
 },
 "nbformat": 4,
 "nbformat_minor": 5
}
