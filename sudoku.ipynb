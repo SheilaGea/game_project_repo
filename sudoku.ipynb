{
 "cells": [
  {
   "cell_type": "markdown",
   "id": "ad5a9581",
   "metadata": {},
   "source": [
    "# Sudoku"
   ]
  },
  {
   "cell_type": "code",
   "execution_count": 4,
   "id": "bc10beee",
   "metadata": {},
   "outputs": [],
   "source": [
    "# Create an empty table\n",
    "\n",
    "from IPython.display import clear_output\n",
    "\n",
    "def display_board(board):\n",
    "    clear_output()\n",
    "\n",
    "    print(' -------------'                                                  '  -------------'                                         '  -------------')\n",
    "    print(' | ' + board[1] + ' | ' + board[2] + ' | ' + board[3] + ' | '' | ' + board[1] + ' | ' + board[2] + ' | ' + board[3] + ' | '' | ' + board[1] + ' | ' + board[2] + ' | ' + board[3] + ' | ')\n",
    "    print(' -------------'                                                  '  -------------'                                         '  -------------')\n",
    "    print(' | ' + board[4] + ' | ' + board[5] + ' | ' + board[6] + ' | '' | ' + board[4] + ' | ' + board[5] + ' | ' + board[6] + ' | '' | ' + board[4] + ' | ' + board[5] + ' | ' + board[6] + ' | ')\n",
    "    print(' -------------'                                                  '  -------------'                                         '  -------------')\n",
    "    print(' | ' + board[7] + ' | ' + board[8] + ' | ' + board[9] + ' | '' | ' + board[7] + ' | ' + board[8] + ' | ' + board[9] + ' | '' | ' + board[7] + ' | ' + board[8] + ' | ' + board[9] + ' | ')\n",
    "    print(' -------------'                                                  '  -------------'                                         '  -------------')\n",
    "    print(' -------------'                                                  '  -------------'                                         '  -------------')\n",
    "    print(' | ' + board[1] + ' | ' + board[2] + ' | ' + board[3] + ' | '' | ' + board[1] + ' | ' + board[2] + ' | ' + board[3] + ' | '' | ' + board[1] + ' | ' + board[2] + ' | ' + board[3] + ' | ')\n",
    "    print(' -------------'                                                  '  -------------'                                         '  -------------')\n",
    "    print(' | ' + board[4] + ' | ' + board[5] + ' | ' + board[6] + ' | '' | ' + board[4] + ' | ' + board[5] + ' | ' + board[6] + ' | '' | ' + board[4] + ' | ' + board[5] + ' | ' + board[6] + ' | ')\n",
    "    print(' -------------'                                                  '  -------------'                                         '  -------------')\n",
    "    print(' | ' + board[7] + ' | ' + board[8] + ' | ' + board[9] + ' | '' | ' + board[7] + ' | ' + board[8] + ' | ' + board[9] + ' | '' | ' + board[7] + ' | ' + board[8] + ' | ' + board[9] + ' | ')\n",
    "    print(' -------------'                                                  '  -------------'                                         '  -------------')\n",
    "    print(' -------------'                                                  '  -------------'                                         '  -------------')\n",
    "    print(' | ' + board[1] + ' | ' + board[2] + ' | ' + board[3] + ' | '' | ' + board[1] + ' | ' + board[2] + ' | ' + board[3] + ' | '' | ' + board[1] + ' | ' + board[2] + ' | ' + board[3] + ' | ')\n",
    "    print(' -------------'                                                  '  -------------'                                         '  -------------')              \n",
    "    print(' | ' + board[4] + ' | ' + board[5] + ' | ' + board[6] + ' | '' | ' + board[4] + ' | ' + board[5] + ' | ' + board[6] + ' | '' | ' + board[4] + ' | ' + board[5] + ' | ' + board[6] + ' | ')\n",
    "    print(' -------------'                                                  '  -------------'                                         '  -------------')\n",
    "    print(' | ' + board[7] + ' | ' + board[8] + ' | ' + board[9] + ' | '' | ' + board[7] + ' | ' + board[8] + ' | ' + board[9] + ' | '' | ' + board[7] + ' | ' + board[8] + ' | ' + board[9] + ' | ')\n",
    "    print(' -------------'                                                  '  -------------'                                         '  -------------')\n"
   ]
  },
  {
   "cell_type": "code",
   "execution_count": 5,
   "id": "50c55727",
   "metadata": {},
   "outputs": [
    {
     "name": "stdout",
     "output_type": "stream",
     "text": [
      " -------------  -------------  -------------\n",
      " | 1 | 2 | 3 |  | 1 | 2 | 3 |  | 1 | 2 | 3 | \n",
      " -------------  -------------  -------------\n",
      " | 4 | 5 | 6 |  | 4 | 5 | 6 |  | 4 | 5 | 6 | \n",
      " -------------  -------------  -------------\n",
      " | 7 | 8 | 9 |  | 7 | 8 | 9 |  | 7 | 8 | 9 | \n",
      " -------------  -------------  -------------\n",
      " -------------  -------------  -------------\n",
      " | 1 | 2 | 3 |  | 1 | 2 | 3 |  | 1 | 2 | 3 | \n",
      " -------------  -------------  -------------\n",
      " | 4 | 5 | 6 |  | 4 | 5 | 6 |  | 4 | 5 | 6 | \n",
      " -------------  -------------  -------------\n",
      " | 7 | 8 | 9 |  | 7 | 8 | 9 |  | 7 | 8 | 9 | \n",
      " -------------  -------------  -------------\n",
      " -------------  -------------  -------------\n",
      " | 1 | 2 | 3 |  | 1 | 2 | 3 |  | 1 | 2 | 3 | \n",
      " -------------  -------------  -------------\n",
      " | 4 | 5 | 6 |  | 4 | 5 | 6 |  | 4 | 5 | 6 | \n",
      " -------------  -------------  -------------\n",
      " | 7 | 8 | 9 |  | 7 | 8 | 9 |  | 7 | 8 | 9 | \n",
      " -------------  -------------  -------------\n"
     ]
    }
   ],
   "source": [
    "# test that the function displays the board\n",
    "\n",
    "test_board = [\"°\", \"1\", \"2\", \"3\", \"4\", \"5\", \"6\", \"7\", \"8\", \"9\"]\n",
    "display_board(test_board)"
   ]
  },
  {
   "cell_type": "markdown",
   "id": "097e0ecf",
   "metadata": {},
   "source": [
    "# Only for tries - Soduko"
   ]
  },
  {
   "cell_type": "markdown",
   "id": "e31bfcef",
   "metadata": {},
   "source": [
    "### Preparing the solved table and the displat function"
   ]
  },
  {
   "cell_type": "code",
   "execution_count": 30,
   "id": "4115636b",
   "metadata": {},
   "outputs": [],
   "source": [
    "# Step 1\n",
    "\n",
    "# Create the soduku list\n",
    "\n",
    "\n",
    "def create_sudoku_solution():\n",
    "    small_box1 = ['3','1','6','5','2','9','4','8','7']\n",
    "    small_box2 = ['5','7','8','1','3','4','6','2','9']\n",
    "    small_box3 = ['4','9','2','7','6','8','5','3','1']\n",
    "    small_box4 = ['2','6','3','9','7','4','8','5','1']\n",
    "    small_box5 = ['4','1','5','8','6','3','7','9','2']\n",
    "    small_box6 = ['9','8','7','1','2','5','6','4','3']\n",
    "    small_box7 = ['1','3','8','6','9','2','7','4','5']\n",
    "    small_box8 = ['9','4','7','3','5','1','2','8','6']\n",
    "    small_box9 = ['2','5','6','8','7','4','3','1','9']\n",
    "    \n",
    "    solved_box = [small_box1,small_box2,small_box3,small_box4,small_box5,small_box6,small_box7,small_box8,small_box9]\n",
    "    \n",
    "#    print(small_box1[0:3], '|',small_box2[0:3], '|', small_box3[0:3])\n",
    "#    print(small_box1[3:6], '|',small_box2[3:6], '|', small_box3[3:6])\n",
    "#    print(small_box1[6:9], '|',small_box2[6:9], '|', small_box3[6:9])\n",
    "#    print('---------------------------------------------------')\n",
    "#    print(small_box4[0:3], '|',small_box5[0:3], '|', small_box6[0:3])\n",
    "#    print(small_box4[3:6], '|',small_box5[3:6], '|', small_box6[6:9])\n",
    "#    print(small_box4[6:9], '|',small_box5[6:9], '|', small_box6[6:9])\n",
    "#    print('---------------------------------------------------')\n",
    "#    print(small_box7[0:3], '|',small_box8[0:3], '|', small_box9[0:3])\n",
    "#    print(small_box7[3:6], '|',small_box8[3:6], '|', small_box9[6:9])\n",
    "#    print(small_box7[6:9], '|',small_box8[6:9], '|', small_box9[6:9])\n",
    "    \n",
    "    return solved_box\n",
    "\n",
    "\n",
    "\n",
    "\n"
   ]
  },
  {
   "cell_type": "code",
   "execution_count": 31,
   "id": "aa060aee",
   "metadata": {},
   "outputs": [],
   "source": [
    "# display_board() function !!\n",
    "\n",
    "\n",
    "\n",
    "from IPython.display import clear_output\n",
    "\n",
    "def display_board(big_box):\n",
    "    clear_output()\n",
    "\n",
    "    print(' -------------'                                                  '  -------------'                                         '  -------------')\n",
    "    print(' | ' + big_box[0][0] + ' | ' + big_box[0][1] + ' | ' + big_box[0][2] + ' | '' | ' + big_box[0][3] + ' | ' + big_box[0][4] + ' | ' + big_box[0][5] + ' | '' | ' + big_box[0][6] + ' | ' + big_box[0][7] + ' | ' + big_box[0][8] + ' | ')\n",
    "    print(' -------------'                                                  '  -------------'                                         '  -------------')\n",
    "    print(' | ' + big_box[1][0] + ' | ' + big_box[1][1] + ' | ' + big_box[1][2] + ' | '' | ' + big_box[1][3] + ' | ' + big_box[1][4] + ' | ' + big_box[1][5] + ' | '' | ' + big_box[1][6] + ' | ' + big_box[1][7] + ' | ' + big_box[1][8] + ' | ')\n",
    "    print(' -------------'                                                  '  -------------'                                         '  -------------')\n",
    "    print(' | ' + big_box[2][0] + ' | ' + big_box[2][1] + ' | ' + big_box[2][2] + ' | '' | ' + big_box[2][3] + ' | ' + big_box[2][4] + ' | ' + big_box[2][5] + ' | '' | ' + big_box[2][6] + ' | ' + big_box[2][7] + ' | ' + big_box[2][8] + ' | ')\n",
    "    print(' -------------'                                                  '  -------------'                                         '  -------------')\n",
    "    print(' -------------'                                                  '  -------------'                                         '  -------------')\n",
    "    print(' | ' + big_box[3][0] + ' | ' + big_box[3][1] + ' | ' + big_box[3][2] + ' | '' | ' + big_box[3][3] + ' | ' + big_box[3][4] + ' | ' + big_box[3][5] + ' | '' | ' + big_box[3][6] + ' | ' + big_box[3][7] + ' | ' + big_box[3][8] + ' | ')\n",
    "    print(' -------------'                                                  '  -------------'                                         '  -------------')\n",
    "    print(' | ' + big_box[4][0] + ' | ' + big_box[4][1] + ' | ' + big_box[4][2] + ' | '' | ' + big_box[4][3] + ' | ' + big_box[4][4] + ' | ' + big_box[4][5] + ' | '' | ' + big_box[4][6] + ' | ' + big_box[4][7] + ' | ' + big_box[4][8] + ' | ')\n",
    "    print(' -------------'                                                  '  -------------'                                         '  -------------')\n",
    "    print(' | ' + big_box[5][0] + ' | ' + big_box[5][1] + ' | ' + big_box[5][2] + ' | '' | ' + big_box[5][3] + ' | ' + big_box[5][4] + ' | ' + big_box[5][5] + ' | '' | ' + big_box[5][6] + ' | ' + big_box[5][7] + ' | ' + big_box[5][8] + ' | ')\n",
    "    print(' -------------'                                                  '  -------------'                                         '  -------------')\n",
    "    print(' -------------'                                                  '  -------------'                                         '  -------------')\n",
    "    print(' | ' + big_box[6][0] + ' | ' + big_box[6][1] + ' | ' + big_box[6][2] + ' | '' | ' + big_box[6][3] + ' | ' + big_box[6][4] + ' | ' + big_box[6][5] + ' | '' | ' + big_box[6][6] + ' | ' + big_box[6][7] + ' | ' + big_box[6][8] + ' | ')\n",
    "    print(' -------------'                                                  '  -------------'                                         '  -------------')              \n",
    "    print(' | ' + big_box[7][0] + ' | ' + big_box[7][1] + ' | ' + big_box[7][2] + ' | '' | ' + big_box[7][3] + ' | ' + big_box[7][4] + ' | ' + big_box[7][5] + ' | '' | ' + big_box[7][6] + ' | ' + big_box[7][7] + ' | ' + big_box[7][8] + ' | ')\n",
    "    print(' -------------'                                                  '  -------------'                                         '  -------------')\n",
    "    print(' | ' + big_box[8][0] + ' | ' + big_box[8][1] + ' | ' + big_box[8][2] + ' | '' | ' + big_box[8][3] + ' | ' + big_box[8][4] + ' | ' + big_box[8][5] + ' | '' | ' + big_box[8][6] + ' | ' + big_box[8][7] + ' | ' + big_box[8][8] + ' | ')\n",
    "    print(' -------------'                                                  '  -------------'                                         '  -------------')\n"
   ]
  },
  {
   "cell_type": "code",
   "execution_count": 32,
   "id": "127ce3cd",
   "metadata": {},
   "outputs": [],
   "source": [
    "solved_box = create_sudoku_solution()"
   ]
  },
  {
   "cell_type": "code",
   "execution_count": 33,
   "id": "bd3e3371",
   "metadata": {},
   "outputs": [
    {
     "name": "stdout",
     "output_type": "stream",
     "text": [
      " -------------  -------------  -------------\n",
      " | 3 | 1 | 6 |  | 5 | 2 | 9 |  | 4 | 8 | 7 | \n",
      " -------------  -------------  -------------\n",
      " | 5 | 7 | 8 |  | 1 | 3 | 4 |  | 6 | 2 | 9 | \n",
      " -------------  -------------  -------------\n",
      " | 4 | 9 | 2 |  | 7 | 6 | 8 |  | 5 | 3 | 1 | \n",
      " -------------  -------------  -------------\n",
      " -------------  -------------  -------------\n",
      " | 2 | 6 | 3 |  | 9 | 7 | 4 |  | 8 | 5 | 1 | \n",
      " -------------  -------------  -------------\n",
      " | 4 | 1 | 5 |  | 8 | 6 | 3 |  | 7 | 9 | 2 | \n",
      " -------------  -------------  -------------\n",
      " | 9 | 8 | 7 |  | 1 | 2 | 5 |  | 6 | 4 | 3 | \n",
      " -------------  -------------  -------------\n",
      " -------------  -------------  -------------\n",
      " | 1 | 3 | 8 |  | 6 | 9 | 2 |  | 7 | 4 | 5 | \n",
      " -------------  -------------  -------------\n",
      " | 9 | 4 | 7 |  | 3 | 5 | 1 |  | 2 | 8 | 6 | \n",
      " -------------  -------------  -------------\n",
      " | 2 | 5 | 6 |  | 8 | 7 | 4 |  | 3 | 1 | 9 | \n",
      " -------------  -------------  -------------\n"
     ]
    }
   ],
   "source": [
    "# Checking that the create_sudoku_solution() and the display_board() is working!\n",
    "\n",
    "display_board(solved_box)"
   ]
  },
  {
   "cell_type": "markdown",
   "id": "7bc44c2a",
   "metadata": {},
   "source": [
    "### Step 2 Preparing the table ready to play "
   ]
  },
  {
   "cell_type": "code",
   "execution_count": 34,
   "id": "289f8df0",
   "metadata": {},
   "outputs": [],
   "source": [
    "# Now put STEP 2 in a function - this remove only from small_box\n",
    "\n",
    "import random\n",
    "\n",
    "def remove_number_from_small_box(small_box):\n",
    "    for item in range(3):\n",
    "        remove_number = str(random.randint(1,9)) # The number that is going to remove\n",
    "        for number in range(len(small_box)):\n",
    "            if small_box[number] == remove_number:\n",
    "                small_box[number] = ' '\n",
    "            \n",
    "    return small_box\n",
    "\n",
    "\n"
   ]
  },
  {
   "cell_type": "code",
   "execution_count": 35,
   "id": "2d7fd676",
   "metadata": {},
   "outputs": [],
   "source": [
    "# Step 2.2 iterating over all the small boxes and return the big box ready to play!\n",
    "\n",
    "\n",
    "big_box = solved_box\n",
    "\n",
    "for small_box in big_box:\n",
    "    remove_number_from_small_box(small_box)"
   ]
  },
  {
   "cell_type": "code",
   "execution_count": 36,
   "id": "e7932841",
   "metadata": {},
   "outputs": [
    {
     "name": "stdout",
     "output_type": "stream",
     "text": [
      " -------------  -------------  -------------\n",
      " |   | 1 |   |  | 5 |   | 9 |  | 4 | 8 | 7 | \n",
      " -------------  -------------  -------------\n",
      " |   | 7 | 8 |  | 1 | 3 | 4 |  |   | 2 |   | \n",
      " -------------  -------------  -------------\n",
      " |   | 9 | 2 |  | 7 | 6 | 8 |  |   | 3 | 1 | \n",
      " -------------  -------------  -------------\n",
      " -------------  -------------  -------------\n",
      " |   | 6 |   |  | 9 | 7 |   |  | 8 | 5 | 1 | \n",
      " -------------  -------------  -------------\n",
      " |   |   | 5 |  |   | 6 | 3 |  | 7 | 9 | 2 | \n",
      " -------------  -------------  -------------\n",
      " | 9 |   | 7 |  | 1 |   | 5 |  | 6 |   | 3 | \n",
      " -------------  -------------  -------------\n",
      " -------------  -------------  -------------\n",
      " | 1 | 3 | 8 |  | 6 | 9 |   |  |   | 4 |   | \n",
      " -------------  -------------  -------------\n",
      " | 9 | 4 | 7 |  | 3 |   |   |  | 2 | 8 | 6 | \n",
      " -------------  -------------  -------------\n",
      " | 2 | 5 | 6 |  |   | 7 |   |  | 3 | 1 | 9 | \n",
      " -------------  -------------  -------------\n"
     ]
    }
   ],
   "source": [
    "display_board(big_box)"
   ]
  },
  {
   "cell_type": "code",
   "execution_count": null,
   "id": "5633ffc2-5fbf-448a-8aee-f8eaefbbebce",
   "metadata": {},
   "outputs": [],
   "source": []
  },
  {
   "cell_type": "code",
   "execution_count": 271,
   "id": "8522334a-fce6-43c3-84ab-cfafb2904c9a",
   "metadata": {},
   "outputs": [],
   "source": [
    "# Step 3.0 - Choose a number\n",
    "\n",
    "def player_number_input():\n",
    "    \n",
    "    number_input = 0\n",
    "    \n",
    "    while not (number_input >= 1 and number_input <= 9):\n",
    "        number_input = int(input(\"Choose number between 1 to 9\"))\n",
    "    number_input = str(number_input)\n",
    "    return number_input\n"
   ]
  },
  {
   "cell_type": "code",
   "execution_count": 275,
   "id": "b536d715-1902-480f-b51e-cddea95806f8",
   "metadata": {},
   "outputs": [
    {
     "name": "stdin",
     "output_type": "stream",
     "text": [
      "Choose number between 1 to 9 9\n"
     ]
    }
   ],
   "source": [
    "number_input = player_number_input()"
   ]
  },
  {
   "cell_type": "code",
   "execution_count": null,
   "id": "6d6fd7fc-8a61-4637-84a5-944fed45c73b",
   "metadata": {},
   "outputs": [],
   "source": []
  },
  {
   "cell_type": "code",
   "execution_count": 281,
   "id": "7bb166c0-e96a-45cc-88e6-c57b00648003",
   "metadata": {},
   "outputs": [],
   "source": [
    "# Step 3.1\n",
    "\n",
    "def player_position_input():\n",
    "    \n",
    "    row_input= -1\n",
    "    colum_input = -1\n",
    "    \n",
    "    while not (row_input >= 0  and row_input <= 8):\n",
    "            row_input = int(input(\"Choose Row number between 0 to 8\"))\n",
    "        \n",
    "    while not (colum_input  >= 0 and colum_input <= 9):\n",
    "            colum_input = int(input(\"Choose Colum number between 0 to 8\"))\n",
    "           \n",
    "    position = [row_input, colum_input] \n",
    "    return position\n"
   ]
  },
  {
   "cell_type": "code",
   "execution_count": 283,
   "id": "dba7ddde-6198-4a7f-8287-4e9023e5507e",
   "metadata": {},
   "outputs": [
    {
     "name": "stdin",
     "output_type": "stream",
     "text": [
      "Choose Row number between 0 to 8 0\n",
      "Choose Colum number between 0 to 8 0\n"
     ]
    }
   ],
   "source": [
    "position = player_position_input()"
   ]
  },
  {
   "cell_type": "code",
   "execution_count": null,
   "id": "9e8edf66-fc08-4e21-9667-43024013b9bd",
   "metadata": {},
   "outputs": [],
   "source": []
  },
  {
   "cell_type": "code",
   "execution_count": 285,
   "id": "3566e336",
   "metadata": {},
   "outputs": [],
   "source": [
    "# Step 3.2 Write a function that takes in the board list object, a number, and the desired position of the number\n",
    "\n",
    "def place_marker(big_box, number_input, position):\n",
    "    big_box[position[0]][position[1]] = number_input\n",
    "\n"
   ]
  },
  {
   "cell_type": "code",
   "execution_count": 287,
   "id": "6c2ca296",
   "metadata": {},
   "outputs": [
    {
     "name": "stdout",
     "output_type": "stream",
     "text": [
      " -------------  -------------  -------------\n",
      " | 9 | 1 |   |  | 5 | 2 | 9 |  | 4 | 8 |   | \n",
      " -------------  -------------  -------------\n",
      " | 5 |   | 8 |  |   | 3 | 4 |  | 6 |   | 9 | \n",
      " -------------  -------------  -------------\n",
      " | 4 | 9 | 2 |  | 7 | 6 |   |  |   | 3 |   | \n",
      " -------------  -------------  -------------\n",
      " -------------  -------------  -------------\n",
      " | 2 |   | 3 |  | 3 | 7 | 4 |  |   | 5 |   | \n",
      " -------------  -------------  -------------\n",
      " |   |   | 5 |  | 8 | 6 | 3 |  |   | 9 | 2 | \n",
      " -------------  -------------  -------------\n",
      " |   | 8 | 7 |  | 1 | 2 | 5 |  | 6 |   | 3 | \n",
      " -------------  -------------  -------------\n",
      " -------------  -------------  -------------\n",
      " | 1 | 3 | 8 |  | 6 | 9 |   |  |   | 4 |   | \n",
      " -------------  -------------  -------------\n",
      " |   | 4 | 7 |  | 3 | 5 | 1 |  | 2 | 8 |   | \n",
      " -------------  -------------  -------------\n",
      " | 2 |   | 6 |  | 8 |   | 4 |  | 3 | 1 | 9 | \n",
      " -------------  -------------  -------------\n"
     ]
    }
   ],
   "source": [
    "place_marker(big_box, number_input, position)\n",
    "display_board(big_box)"
   ]
  },
  {
   "cell_type": "code",
   "execution_count": null,
   "id": "728f5019",
   "metadata": {},
   "outputs": [],
   "source": [
    "# Check space available \n",
    "\n",
    "\n",
    "\n"
   ]
  },
  {
   "cell_type": "code",
   "execution_count": 11,
   "id": "60c3eec8",
   "metadata": {},
   "outputs": [],
   "source": []
  },
  {
   "cell_type": "code",
   "execution_count": null,
   "id": "76402de6",
   "metadata": {},
   "outputs": [],
   "source": []
  },
  {
   "cell_type": "code",
   "execution_count": null,
   "id": "1243c8bc",
   "metadata": {},
   "outputs": [],
   "source": []
  },
  {
   "cell_type": "code",
   "execution_count": null,
   "id": "e68a7234",
   "metadata": {},
   "outputs": [],
   "source": []
  },
  {
   "cell_type": "code",
   "execution_count": null,
   "id": "7d5f9e38",
   "metadata": {},
   "outputs": [],
   "source": []
  },
  {
   "cell_type": "code",
   "execution_count": null,
   "id": "90cfb0da",
   "metadata": {},
   "outputs": [],
   "source": []
  },
  {
   "cell_type": "code",
   "execution_count": null,
   "id": "fed8f580",
   "metadata": {},
   "outputs": [],
   "source": []
  },
  {
   "cell_type": "code",
   "execution_count": null,
   "id": "32f6de61",
   "metadata": {},
   "outputs": [],
   "source": []
  },
  {
   "cell_type": "code",
   "execution_count": null,
   "id": "d4ef61d5",
   "metadata": {},
   "outputs": [],
   "source": []
  },
  {
   "cell_type": "code",
   "execution_count": null,
   "id": "844f30af",
   "metadata": {},
   "outputs": [],
   "source": []
  },
  {
   "cell_type": "code",
   "execution_count": null,
   "id": "8ad1f163",
   "metadata": {},
   "outputs": [],
   "source": []
  },
  {
   "cell_type": "code",
   "execution_count": null,
   "id": "5885fc6f",
   "metadata": {},
   "outputs": [],
   "source": []
  },
  {
   "cell_type": "code",
   "execution_count": null,
   "id": "fe6e8b88",
   "metadata": {},
   "outputs": [],
   "source": []
  },
  {
   "cell_type": "code",
   "execution_count": null,
   "id": "281c1d46",
   "metadata": {},
   "outputs": [],
   "source": []
  },
  {
   "cell_type": "code",
   "execution_count": null,
   "id": "1790743a",
   "metadata": {},
   "outputs": [],
   "source": []
  },
  {
   "cell_type": "code",
   "execution_count": null,
   "id": "688732d9",
   "metadata": {},
   "outputs": [],
   "source": []
  },
  {
   "cell_type": "code",
   "execution_count": null,
   "id": "c544b579",
   "metadata": {},
   "outputs": [],
   "source": []
  },
  {
   "cell_type": "code",
   "execution_count": null,
   "id": "bb5ef663",
   "metadata": {},
   "outputs": [],
   "source": []
  },
  {
   "cell_type": "code",
   "execution_count": null,
   "id": "e06ac38c",
   "metadata": {},
   "outputs": [],
   "source": []
  },
  {
   "cell_type": "code",
   "execution_count": null,
   "id": "1fbd372a",
   "metadata": {},
   "outputs": [],
   "source": []
  },
  {
   "cell_type": "code",
   "execution_count": null,
   "id": "824a6100",
   "metadata": {},
   "outputs": [],
   "source": []
  },
  {
   "cell_type": "code",
   "execution_count": null,
   "id": "f294a8b9",
   "metadata": {},
   "outputs": [],
   "source": []
  },
  {
   "cell_type": "code",
   "execution_count": null,
   "id": "f281672b",
   "metadata": {},
   "outputs": [],
   "source": []
  },
  {
   "cell_type": "code",
   "execution_count": null,
   "id": "618db530",
   "metadata": {},
   "outputs": [],
   "source": []
  },
  {
   "cell_type": "code",
   "execution_count": null,
   "id": "586f6e8e",
   "metadata": {},
   "outputs": [],
   "source": []
  },
  {
   "cell_type": "code",
   "execution_count": null,
   "id": "d52bd30a",
   "metadata": {},
   "outputs": [],
   "source": []
  },
  {
   "cell_type": "code",
   "execution_count": null,
   "id": "6bd6cd77",
   "metadata": {},
   "outputs": [],
   "source": []
  },
  {
   "cell_type": "code",
   "execution_count": null,
   "id": "a892db26",
   "metadata": {},
   "outputs": [],
   "source": []
  },
  {
   "cell_type": "code",
   "execution_count": null,
   "id": "18f0db85",
   "metadata": {},
   "outputs": [],
   "source": []
  },
  {
   "cell_type": "code",
   "execution_count": null,
   "id": "bc2af502",
   "metadata": {},
   "outputs": [],
   "source": []
  },
  {
   "cell_type": "code",
   "execution_count": null,
   "id": "f7c08661",
   "metadata": {},
   "outputs": [],
   "source": []
  },
  {
   "cell_type": "code",
   "execution_count": null,
   "id": "364a1510",
   "metadata": {},
   "outputs": [],
   "source": []
  }
 ],
 "metadata": {
  "kernelspec": {
   "display_name": "Python [conda env:base] *",
   "language": "python",
   "name": "conda-base-py"
  },
  "language_info": {
   "codemirror_mode": {
    "name": "ipython",
    "version": 3
   },
   "file_extension": ".py",
   "mimetype": "text/x-python",
   "name": "python",
   "nbconvert_exporter": "python",
   "pygments_lexer": "ipython3",
   "version": "3.12.7"
  }
 },
 "nbformat": 4,
 "nbformat_minor": 5
}
