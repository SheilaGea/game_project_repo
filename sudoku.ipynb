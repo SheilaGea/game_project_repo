{
 "cells": [
  {
   "cell_type": "markdown",
   "id": "4b0052c5-23de-43a1-a455-fe21e767a430",
   "metadata": {},
   "source": [
    "# Sudoku"
   ]
  },
  {
   "cell_type": "code",
   "execution_count": 162,
   "id": "d2479149-a77f-4b73-9f6b-1514fd56b2a4",
   "metadata": {},
   "outputs": [],
   "source": [
    "# Create an empty table\n",
    "\n",
    "from IPython.display import clear_output\n",
    "\n",
    "def display_board(board):\n",
    "    clear_output()\n",
    "\n",
    "    print(' -------------'                                                  '  -------------'                                         '  -------------')\n",
    "    print(' | ' + board[1] + ' | ' + board[2] + ' | ' + board[3] + ' | '' | ' + board[1] + ' | ' + board[2] + ' | ' + board[3] + ' | '' | ' + board[1] + ' | ' + board[2] + ' | ' + board[3] + ' | ')\n",
    "    print(' -------------'                                                  '  -------------'                                         '  -------------')\n",
    "    print(' | ' + board[4] + ' | ' + board[5] + ' | ' + board[6] + ' | '' | ' + board[4] + ' | ' + board[5] + ' | ' + board[6] + ' | '' | ' + board[4] + ' | ' + board[5] + ' | ' + board[6] + ' | ')\n",
    "    print(' -------------'                                                  '  -------------'                                         '  -------------')\n",
    "    print(' | ' + board[7] + ' | ' + board[8] + ' | ' + board[9] + ' | '' | ' + board[7] + ' | ' + board[8] + ' | ' + board[9] + ' | '' | ' + board[7] + ' | ' + board[8] + ' | ' + board[9] + ' | ')\n",
    "    print(' -------------'                                                  '  -------------'                                         '  -------------')\n",
    "    print(' -------------'                                                  '  -------------'                                         '  -------------')\n",
    "    print(' | ' + board[1] + ' | ' + board[2] + ' | ' + board[3] + ' | '' | ' + board[1] + ' | ' + board[2] + ' | ' + board[3] + ' | '' | ' + board[1] + ' | ' + board[2] + ' | ' + board[3] + ' | ')\n",
    "    print(' -------------'                                                  '  -------------'                                         '  -------------')\n",
    "    print(' | ' + board[4] + ' | ' + board[5] + ' | ' + board[6] + ' | '' | ' + board[4] + ' | ' + board[5] + ' | ' + board[6] + ' | '' | ' + board[4] + ' | ' + board[5] + ' | ' + board[6] + ' | ')\n",
    "    print(' -------------'                                                  '  -------------'                                         '  -------------')\n",
    "    print(' | ' + board[7] + ' | ' + board[8] + ' | ' + board[9] + ' | '' | ' + board[7] + ' | ' + board[8] + ' | ' + board[9] + ' | '' | ' + board[7] + ' | ' + board[8] + ' | ' + board[9] + ' | ')\n",
    "    print(' -------------'                                                  '  -------------'                                         '  -------------')\n",
    "    print(' -------------'                                                  '  -------------'                                         '  -------------')\n",
    "    print(' | ' + board[1] + ' | ' + board[2] + ' | ' + board[3] + ' | '' | ' + board[1] + ' | ' + board[2] + ' | ' + board[3] + ' | '' | ' + board[1] + ' | ' + board[2] + ' | ' + board[3] + ' | ')\n",
    "    print(' -------------'                                                  '  -------------'                                         '  -------------')              \n",
    "    print(' | ' + board[4] + ' | ' + board[5] + ' | ' + board[6] + ' | '' | ' + board[4] + ' | ' + board[5] + ' | ' + board[6] + ' | '' | ' + board[4] + ' | ' + board[5] + ' | ' + board[6] + ' | ')\n",
    "    print(' -------------'                                                  '  -------------'                                         '  -------------')\n",
    "    print(' | ' + board[7] + ' | ' + board[8] + ' | ' + board[9] + ' | '' | ' + board[7] + ' | ' + board[8] + ' | ' + board[9] + ' | '' | ' + board[7] + ' | ' + board[8] + ' | ' + board[9] + ' | ')\n",
    "    print(' -------------'                                                  '  -------------'                                         '  -------------')\n"
   ]
  },
  {
   "cell_type": "code",
   "execution_count": 164,
   "id": "aa6eb7ec-0cf4-4c5e-92c9-dccd522ba337",
   "metadata": {},
   "outputs": [
    {
     "name": "stdout",
     "output_type": "stream",
     "text": [
      " -------------  -------------  -------------\n",
      " | 1 | 2 | 3 |  | 1 | 2 | 3 |  | 1 | 2 | 3 | \n",
      " -------------  -------------  -------------\n",
      " | 4 | 5 | 6 |  | 4 | 5 | 6 |  | 4 | 5 | 6 | \n",
      " -------------  -------------  -------------\n",
      " | 7 | 8 | 9 |  | 7 | 8 | 9 |  | 7 | 8 | 9 | \n",
      " -------------  -------------  -------------\n",
      " -------------  -------------  -------------\n",
      " | 1 | 2 | 3 |  | 1 | 2 | 3 |  | 1 | 2 | 3 | \n",
      " -------------  -------------  -------------\n",
      " | 4 | 5 | 6 |  | 4 | 5 | 6 |  | 4 | 5 | 6 | \n",
      " -------------  -------------  -------------\n",
      " | 7 | 8 | 9 |  | 7 | 8 | 9 |  | 7 | 8 | 9 | \n",
      " -------------  -------------  -------------\n",
      " -------------  -------------  -------------\n",
      " | 1 | 2 | 3 |  | 1 | 2 | 3 |  | 1 | 2 | 3 | \n",
      " -------------  -------------  -------------\n",
      " | 4 | 5 | 6 |  | 4 | 5 | 6 |  | 4 | 5 | 6 | \n",
      " -------------  -------------  -------------\n",
      " | 7 | 8 | 9 |  | 7 | 8 | 9 |  | 7 | 8 | 9 | \n",
      " -------------  -------------  -------------\n"
     ]
    }
   ],
   "source": [
    "# test that the function displays the board\n",
    "\n",
    "test_board = [\"#\", \"1\", \"2\", \"3\", \"4\", \"5\", \"6\", \"7\", \"8\", \"9\"]\n",
    "display_board(test_board)"
   ]
  },
  {
   "cell_type": "code",
   "execution_count": null,
   "id": "362285c0-6805-4ec7-a4df-749d8cfaed45",
   "metadata": {},
   "outputs": [],
   "source": []
  },
  {
   "cell_type": "code",
   "execution_count": 167,
   "id": "2a296d62-3373-44ba-b33c-96d8f1cdd805",
   "metadata": {},
   "outputs": [],
   "source": [
    "import "
   ]
  },
  {
   "cell_type": "code",
   "execution_count": 173,
   "id": "2585356f-0857-4f7d-b90f-600820db3ea3",
   "metadata": {},
   "outputs": [
    {
     "data": {
      "text/plain": [
       "'/Users/sheilagea/Library/Mobile Documents/.Trash/sudoku_repo'"
      ]
     },
     "execution_count": 173,
     "metadata": {},
     "output_type": "execute_result"
    }
   ],
   "source": [
    "os.getcwd()"
   ]
  },
  {
   "cell_type": "code",
   "execution_count": null,
   "id": "ae020a09-84ca-47b0-9a27-4f23f799eb29",
   "metadata": {},
   "outputs": [],
   "source": []
  },
  {
   "cell_type": "code",
   "execution_count": null,
   "id": "3c553a22-eafb-4b3d-93e3-e2d7b314f34b",
   "metadata": {},
   "outputs": [],
   "source": []
  },
  {
   "cell_type": "code",
   "execution_count": null,
   "id": "e5557775-639a-4d25-a268-05dfc0a88c4b",
   "metadata": {},
   "outputs": [],
   "source": []
  }
 ],
 "metadata": {
  "kernelspec": {
   "display_name": "Python [conda env:base] *",
   "language": "python",
   "name": "conda-base-py"
  },
  "language_info": {
   "codemirror_mode": {
    "name": "ipython",
    "version": 3
   },
   "file_extension": ".py",
   "mimetype": "text/x-python",
   "name": "python",
   "nbconvert_exporter": "python",
   "pygments_lexer": "ipython3",
   "version": "3.12.7"
  }
 },
 "nbformat": 4,
 "nbformat_minor": 5
}
