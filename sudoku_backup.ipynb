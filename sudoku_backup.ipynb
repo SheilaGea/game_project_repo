{
 "cells": [
  {
   "cell_type": "markdown",
   "id": "4b0052c5-23de-43a1-a455-fe21e767a430",
   "metadata": {},
   "source": [
    "# Sudoku"
   ]
  },
  {
   "cell_type": "code",
   "execution_count": 42,
   "id": "d2479149-a77f-4b73-9f6b-1514fd56b2a4",
   "metadata": {},
   "outputs": [],
   "source": [
    "# Create an empty table\n",
    "\n",
    "from IPython.display import clear_output\n",
    "\n",
    "def display_board(board):\n",
    "    clear_output()\n",
    "\n",
    "    print(' -------------'                                                  '  -------------'                                         '  -------------')\n",
    "    print(' | ' + board[1] + ' | ' + board[2] + ' | ' + board[3] + ' | '' | ' + board[1] + ' | ' + board[2] + ' | ' + board[3] + ' | '' | ' + board[1] + ' | ' + board[2] + ' | ' + board[3] + ' | ')\n",
    "    print(' -------------'                                                  '  -------------'                                         '  -------------')\n",
    "    print(' | ' + board[4] + ' | ' + board[5] + ' | ' + board[6] + ' | '' | ' + board[4] + ' | ' + board[5] + ' | ' + board[6] + ' | '' | ' + board[4] + ' | ' + board[5] + ' | ' + board[6] + ' | ')\n",
    "    print(' -------------'                                                  '  -------------'                                         '  -------------')\n",
    "    print(' | ' + board[7] + ' | ' + board[8] + ' | ' + board[9] + ' | '' | ' + board[7] + ' | ' + board[8] + ' | ' + board[9] + ' | '' | ' + board[7] + ' | ' + board[8] + ' | ' + board[9] + ' | ')\n",
    "    print(' -------------'                                                  '  -------------'                                         '  -------------')\n",
    "    print(' -------------'                                                  '  -------------'                                         '  -------------')\n",
    "    print(' | ' + board[1] + ' | ' + board[2] + ' | ' + board[3] + ' | '' | ' + board[1] + ' | ' + board[2] + ' | ' + board[3] + ' | '' | ' + board[1] + ' | ' + board[2] + ' | ' + board[3] + ' | ')\n",
    "    print(' -------------'                                                  '  -------------'                                         '  -------------')\n",
    "    print(' | ' + board[4] + ' | ' + board[5] + ' | ' + board[6] + ' | '' | ' + board[4] + ' | ' + board[5] + ' | ' + board[6] + ' | '' | ' + board[4] + ' | ' + board[5] + ' | ' + board[6] + ' | ')\n",
    "    print(' -------------'                                                  '  -------------'                                         '  -------------')\n",
    "    print(' | ' + board[7] + ' | ' + board[8] + ' | ' + board[9] + ' | '' | ' + board[7] + ' | ' + board[8] + ' | ' + board[9] + ' | '' | ' + board[7] + ' | ' + board[8] + ' | ' + board[9] + ' | ')\n",
    "    print(' -------------'                                                  '  -------------'                                         '  -------------')\n",
    "    print(' -------------'                                                  '  -------------'                                         '  -------------')\n",
    "    print(' | ' + board[1] + ' | ' + board[2] + ' | ' + board[3] + ' | '' | ' + board[1] + ' | ' + board[2] + ' | ' + board[3] + ' | '' | ' + board[1] + ' | ' + board[2] + ' | ' + board[3] + ' | ')\n",
    "    print(' -------------'                                                  '  -------------'                                         '  -------------')              \n",
    "    print(' | ' + board[4] + ' | ' + board[5] + ' | ' + board[6] + ' | '' | ' + board[4] + ' | ' + board[5] + ' | ' + board[6] + ' | '' | ' + board[4] + ' | ' + board[5] + ' | ' + board[6] + ' | ')\n",
    "    print(' -------------'                                                  '  -------------'                                         '  -------------')\n",
    "    print(' | ' + board[7] + ' | ' + board[8] + ' | ' + board[9] + ' | '' | ' + board[7] + ' | ' + board[8] + ' | ' + board[9] + ' | '' | ' + board[7] + ' | ' + board[8] + ' | ' + board[9] + ' | ')\n",
    "    print(' -------------'                                                  '  -------------'                                         '  -------------')\n"
   ]
  },
  {
   "cell_type": "code",
   "execution_count": 44,
   "id": "aa6eb7ec-0cf4-4c5e-92c9-dccd522ba337",
   "metadata": {},
   "outputs": [
    {
     "name": "stdout",
     "output_type": "stream",
     "text": [
      " -------------  -------------  -------------\n",
      " | 1 | 2 | 3 |  | 1 | 2 | 3 |  | 1 | 2 | 3 | \n",
      " -------------  -------------  -------------\n",
      " | 4 | 5 | 6 |  | 4 | 5 | 6 |  | 4 | 5 | 6 | \n",
      " -------------  -------------  -------------\n",
      " | 7 | 8 | 9 |  | 7 | 8 | 9 |  | 7 | 8 | 9 | \n",
      " -------------  -------------  -------------\n",
      " -------------  -------------  -------------\n",
      " | 1 | 2 | 3 |  | 1 | 2 | 3 |  | 1 | 2 | 3 | \n",
      " -------------  -------------  -------------\n",
      " | 4 | 5 | 6 |  | 4 | 5 | 6 |  | 4 | 5 | 6 | \n",
      " -------------  -------------  -------------\n",
      " | 7 | 8 | 9 |  | 7 | 8 | 9 |  | 7 | 8 | 9 | \n",
      " -------------  -------------  -------------\n",
      " -------------  -------------  -------------\n",
      " | 1 | 2 | 3 |  | 1 | 2 | 3 |  | 1 | 2 | 3 | \n",
      " -------------  -------------  -------------\n",
      " | 4 | 5 | 6 |  | 4 | 5 | 6 |  | 4 | 5 | 6 | \n",
      " -------------  -------------  -------------\n",
      " | 7 | 8 | 9 |  | 7 | 8 | 9 |  | 7 | 8 | 9 | \n",
      " -------------  -------------  -------------\n"
     ]
    }
   ],
   "source": [
    "# test that the function displays the board\n",
    "\n",
    "test_board = [\"°\", \"1\", \"2\", \"3\", \"4\", \"5\", \"6\", \"7\", \"8\", \"9\"]\n",
    "display_board(test_board)"
   ]
  },
  {
   "cell_type": "markdown",
   "id": "b4a83c9f-bc82-415e-a82f-6277a7935440",
   "metadata": {},
   "source": [
    "# Only for tries - Soduko"
   ]
  },
  {
   "cell_type": "markdown",
   "id": "5fdc0723-56fb-4b22-af27-ea3e737f9798",
   "metadata": {},
   "source": [
    "### Preparing the table to play"
   ]
  },
  {
   "cell_type": "code",
   "execution_count": 46,
   "id": "ae020a09-84ca-47b0-9a27-4f23f799eb29",
   "metadata": {},
   "outputs": [
    {
     "name": "stdout",
     "output_type": "stream",
     "text": [
      "[3, 1, 6] | [5, 7, 8] | [4, 9, 2]\n",
      "[5, 2, 9] | [1, 3, 4] | [7, 6, 8]\n",
      "[4, 8, 7] | [6, 2, 9] | [5, 3, 1]\n",
      "---------------------------------\n",
      "[2, 6, 3] | [4, 1, 5] | [9, 8, 7]\n",
      "[9, 7, 4] | [8, 6, 3] | [6, 4, 3]\n",
      "[8, 5, 1] | [7, 9, 2] | [6, 4, 3]\n",
      "---------------------------------\n",
      "[1, 3, 8] | [9, 4, 7] | [2, 5, 6]\n",
      "[6, 9, 2] | [3, 5, 1] | [3, 1, 9]\n",
      "[7, 4, 5] | [2, 8, 6] | [3, 1, 9]\n"
     ]
    }
   ],
   "source": [
    "# Step 1\n",
    "\n",
    "# Create the soduku list\n",
    "\n",
    "\n",
    "small_box1 = [3,1,6,5,2,9,4,8,7]\n",
    "small_box2 = [5,7,8,1,3,4,6,2,9]\n",
    "small_box3 = [4,9,2,7,6,8,5,3,1]\n",
    "small_box4 = [2,6,3,9,7,4,8,5,1]\n",
    "small_box5 = [4,1,5,8,6,3,7,9,2]\n",
    "small_box6 = [9,8,7,1,2,5,6,4,3]\n",
    "small_box7 = [1,3,8,6,9,2,7,4,5]\n",
    "small_box8 = [9,4,7,3,5,1,2,8,6]\n",
    "small_box9 = [2,5,6,8,7,4,3,1,9]\n",
    "\n",
    "big_box = [small_box1,small_box2,small_box3,small_box4,small_box5,small_box6,small_box7,small_box8,small_box9]\n",
    "big_box\n",
    "\n",
    "\n",
    "\n",
    "print(small_box1[0:3], '|',small_box2[0:3], '|', small_box3[0:3])\n",
    "print(small_box1[3:6], '|',small_box2[3:6], '|', small_box3[3:6])\n",
    "print(small_box1[6:9], '|',small_box2[6:9], '|', small_box3[6:9])\n",
    "print('---------------------------------')\n",
    "print(small_box4[0:3], '|',small_box5[0:3], '|', small_box6[0:3])\n",
    "print(small_box4[3:6], '|',small_box5[3:6], '|', small_box6[6:9])\n",
    "print(small_box4[6:9], '|',small_box5[6:9], '|', small_box6[6:9])\n",
    "print('---------------------------------')\n",
    "print(small_box7[0:3], '|',small_box8[0:3], '|', small_box9[0:3])\n",
    "print(small_box7[3:6], '|',small_box8[3:6], '|', small_box9[6:9])\n",
    "print(small_box7[6:9], '|',small_box8[6:9], '|', small_box9[6:9])\n",
    "\n",
    "\n",
    "\n",
    "\n",
    "\n"
   ]
  },
  {
   "cell_type": "code",
   "execution_count": null,
   "id": "2a47122f-4beb-4c82-959f-43c0fcb6f4fc",
   "metadata": {},
   "outputs": [],
   "source": []
  },
  {
   "cell_type": "code",
   "execution_count": 54,
   "id": "3c553a22-eafb-4b3d-93e3-e2d7b314f34b",
   "metadata": {},
   "outputs": [],
   "source": [
    "# Now put step 2 in a function - this remove only from small_box\n",
    "\n",
    "import random\n",
    "\n",
    "def remove_number_from_small_box(small_box):\n",
    "    for item in range(3):\n",
    "        remove_number = random.randint(1,9) # The number that is going to remove\n",
    "        for number in range(len(small_box)):\n",
    "            if small_box[number] == remove_number:\n",
    "                small_box[number] = ''\n",
    "            \n",
    "    return small_box\n",
    "\n",
    "\n"
   ]
  },
  {
   "cell_type": "code",
   "execution_count": 56,
   "id": "e5557775-639a-4d25-a268-05dfc0a88c4b",
   "metadata": {},
   "outputs": [
    {
     "data": {
      "text/plain": [
       "[5, 7, 8, 1, '', 4, '', 2, '']"
      ]
     },
     "execution_count": 56,
     "metadata": {},
     "output_type": "execute_result"
    }
   ],
   "source": [
    "remove_number_from_small_box(small_box2)\n",
    "small_box2"
   ]
  },
  {
   "cell_type": "code",
   "execution_count": 58,
   "id": "aad10130-82b0-4421-b545-8fcf37a70826",
   "metadata": {},
   "outputs": [
    {
     "name": "stdout",
     "output_type": "stream",
     "text": [
      "[3, 1, 6] | [5, '', 8] | [4, 9, '']\n",
      "[5, '', 9] | [1, '', 4] | ['', 6, 8]\n",
      "[4, '', 7] | ['', 2, ''] | [5, 3, '']\n",
      "---------------------------------\n",
      "[2, '', ''] | [4, 1, ''] | [9, '', '']\n",
      "[9, '', 4] | ['', 6, 3] | [6, '', 3]\n",
      "[8, 5, 1] | [7, 9, ''] | [6, '', 3]\n",
      "---------------------------------\n",
      "[1, 3, ''] | [9, 4, ''] | [2, '', 6]\n",
      "[6, 9, 2] | [3, 5, 1] | ['', 1, 9]\n",
      "['', 4, 5] | ['', '', 6] | ['', 1, 9]\n"
     ]
    }
   ],
   "source": [
    "# Step 2.2 iterating over all the small boxes and return the big box ready to play\n",
    "\n",
    "\n",
    "for small_box in big_box:\n",
    "    remove_number_from_small_box(small_box)\n",
    "    \n",
    "print(big_box[0][0:3], '|',big_box[1][0:3], '|', big_box[2][0:3])\n",
    "print(big_box[0][3:6], '|',big_box[1][3:6], '|', big_box[2][3:6])\n",
    "print(big_box[0][6:9], '|',big_box[1][6:9], '|', big_box[2][6:9])\n",
    "print('---------------------------------')\n",
    "print(big_box[3][0:3], '|',big_box[4][0:3], '|', big_box[5][0:3])\n",
    "print(big_box[3][3:6], '|',big_box[4][3:6], '|', big_box[5][6:9])\n",
    "print(big_box[3][6:9], '|',big_box[4][6:9], '|', big_box[5][6:9])\n",
    "print('---------------------------------')\n",
    "print(big_box[6][0:3], '|',big_box[7][0:3], '|', big_box[8][0:3])\n",
    "print(big_box[6][3:6], '|',big_box[7][3:6], '|', big_box[8][6:9])\n",
    "print(big_box[6][6:9], '|',big_box[7][6:9], '|', big_box[8][6:9])\n",
    "    \n"
   ]
  },
  {
   "cell_type": "code",
   "execution_count": null,
   "id": "da00767e-cf56-40c0-8386-615e1d2953d0",
   "metadata": {},
   "outputs": [],
   "source": []
  },
  {
   "cell_type": "code",
   "execution_count": null,
   "id": "1e73a6b6-3879-437c-b2ab-becee5b2c66b",
   "metadata": {},
   "outputs": [],
   "source": []
  },
  {
   "cell_type": "code",
   "execution_count": null,
   "id": "8c4f5751-a1f6-4fa5-b776-ea131d5c19ef",
   "metadata": {},
   "outputs": [],
   "source": []
  },
  {
   "cell_type": "code",
   "execution_count": null,
   "id": "0ad1751b-31a7-4929-afbd-1bf0f383f751",
   "metadata": {},
   "outputs": [],
   "source": []
  },
  {
   "cell_type": "code",
   "execution_count": null,
   "id": "2d8007bf-23da-4f0d-9531-da5440b6bff8",
   "metadata": {},
   "outputs": [],
   "source": []
  },
  {
   "cell_type": "code",
   "execution_count": null,
   "id": "fd45930e-50a3-4dee-8827-807bb5ae8f79",
   "metadata": {},
   "outputs": [],
   "source": []
  },
  {
   "cell_type": "code",
   "execution_count": null,
   "id": "a72e73e1-d8ef-40b8-92a5-579fa298110a",
   "metadata": {},
   "outputs": [],
   "source": []
  }
 ],
 "metadata": {
  "kernelspec": {
   "display_name": "Python [conda env:base] *",
   "language": "python",
   "name": "conda-base-py"
  },
  "language_info": {
   "codemirror_mode": {
    "name": "ipython",
    "version": 3
   },
   "file_extension": ".py",
   "mimetype": "text/x-python",
   "name": "python",
   "nbconvert_exporter": "python",
   "pygments_lexer": "ipython3",
   "version": "3.12.7"
  }
 },
 "nbformat": 4,
 "nbformat_minor": 5
}
