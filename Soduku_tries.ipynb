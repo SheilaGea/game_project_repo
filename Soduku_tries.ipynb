{
 "cells": [
  {
   "cell_type": "markdown",
   "metadata": {},
   "source": [
    "# Only for tries - Soduko"
   ]
  },
  {
   "cell_type": "markdown",
   "metadata": {},
   "source": [
    "### Preparing the table to play"
   ]
  },
  {
   "cell_type": "code",
   "execution_count": null,
   "metadata": {},
   "outputs": [],
   "source": []
  },
  {
   "cell_type": "code",
   "execution_count": null,
   "metadata": {},
   "outputs": [],
   "source": []
  },
  {
   "cell_type": "code",
   "execution_count": 169,
   "metadata": {
    "scrolled": true
   },
   "outputs": [
    {
     "name": "stdout",
     "output_type": "stream",
     "text": [
      "[3, 1, 6] | [5, 7, 8] | [4, 9, 2]\n",
      "[5, 2, 9] | [1, 3, 4] | [7, 6, 8]\n",
      "[4, 8, 7] | [6, 2, 9] | [5, 3, 1]\n",
      "---------------------------------\n",
      "[2, 6, 3] | [4, 1, 5] | [9, 8, 7]\n",
      "[9, 7, 4] | [8, 6, 3] | [6, 4, 3]\n",
      "[8, 5, 1] | [7, 9, 2] | [6, 4, 3]\n",
      "---------------------------------\n",
      "[1, 3, 8] | [9, 4, 7] | [2, 5, 6]\n",
      "[6, 9, 2] | [3, 5, 1] | [3, 1, 9]\n",
      "[7, 4, 5] | [2, 8, 6] | [3, 1, 9]\n"
     ]
    }
   ],
   "source": [
    "# Step 1\n",
    "\n",
    "# Create the soduku list\n",
    "\n",
    "\n",
    "small_box1 = [3,1,6,5,2,9,4,8,7]\n",
    "small_box2 = [5,7,8,1,3,4,6,2,9]\n",
    "small_box3 = [4,9,2,7,6,8,5,3,1]\n",
    "small_box4 = [2,6,3,9,7,4,8,5,1]\n",
    "small_box5 = [4,1,5,8,6,3,7,9,2]\n",
    "small_box6 = [9,8,7,1,2,5,6,4,3]\n",
    "small_box7 = [1,3,8,6,9,2,7,4,5]\n",
    "small_box8 = [9,4,7,3,5,1,2,8,6]\n",
    "small_box9 = [2,5,6,8,7,4,3,1,9]\n",
    "\n",
    "big_box = [small_box1,small_box2,small_box3,small_box4,small_box5,small_box6,small_box7,small_box8,small_box9]\n",
    "big_box\n",
    "\n",
    "\n",
    "\n",
    "print(small_box1[0:3], '|',small_box2[0:3], '|', small_box3[0:3])\n",
    "print(small_box1[3:6], '|',small_box2[3:6], '|', small_box3[3:6])\n",
    "print(small_box1[6:9], '|',small_box2[6:9], '|', small_box3[6:9])\n",
    "print('---------------------------------')\n",
    "print(small_box4[0:3], '|',small_box5[0:3], '|', small_box6[0:3])\n",
    "print(small_box4[3:6], '|',small_box5[3:6], '|', small_box6[6:9])\n",
    "print(small_box4[6:9], '|',small_box5[6:9], '|', small_box6[6:9])\n",
    "print('---------------------------------')\n",
    "print(small_box7[0:3], '|',small_box8[0:3], '|', small_box9[0:3])\n",
    "print(small_box7[3:6], '|',small_box8[3:6], '|', small_box9[6:9])\n",
    "print(small_box7[6:9], '|',small_box8[6:9], '|', small_box9[6:9])\n",
    "\n",
    "\n",
    "\n",
    "\n",
    "\n"
   ]
  },
  {
   "cell_type": "code",
   "execution_count": null,
   "metadata": {},
   "outputs": [],
   "source": []
  },
  {
   "cell_type": "code",
   "execution_count": 170,
   "metadata": {},
   "outputs": [],
   "source": [
    "# Now put step 2 in a function - this remove only from small_box\n",
    "\n",
    "\n",
    "def remove_number_from_small_box(small_box):\n",
    "    for item in range(3):\n",
    "        remove_number = random.randint(1,9) # The number that is going to remove\n",
    "        for number in range(len(small_box)):\n",
    "            if small_box[number] == remove_number:\n",
    "                small_box[number] = ''\n",
    "            \n",
    "    return small_box\n",
    "\n",
    "\n"
   ]
  },
  {
   "cell_type": "code",
   "execution_count": 171,
   "metadata": {},
   "outputs": [
    {
     "data": {
      "text/plain": [
       "['', 7, 8, 1, 3, '', '', 2, 9]"
      ]
     },
     "execution_count": 171,
     "metadata": {},
     "output_type": "execute_result"
    }
   ],
   "source": [
    "remove_number_from_small_box(small_box2)\n",
    "small_box2"
   ]
  },
  {
   "cell_type": "code",
   "execution_count": 172,
   "metadata": {},
   "outputs": [
    {
     "name": "stdout",
     "output_type": "stream",
     "text": [
      "['', 1, 6] | ['', 7, ''] | [4, 9, '']\n",
      "['', 2, 9] | ['', 3, ''] | ['', 6, 8]\n",
      "[4, 8, ''] | ['', 2, 9] | [5, '', 1]\n",
      "---------------------------------\n",
      "[2, '', ''] | ['', 1, 5] | ['', '', '']\n",
      "['', 7, 4] | [8, '', ''] | [6, 4, 3]\n",
      "[8, 5, 1] | [7, 9, 2] | [6, 4, 3]\n",
      "---------------------------------\n",
      "['', 3, 8] | [9, 4, ''] | ['', 5, 6]\n",
      "[6, '', ''] | [3, 5, 1] | [3, 1, 9]\n",
      "[7, 4, 5] | ['', 8, 6] | [3, 1, 9]\n"
     ]
    }
   ],
   "source": [
    "# Step 2.2 iterating over all the small boxes and return the big box ready to play\n",
    "\n",
    "\n",
    "for small_box in big_box:\n",
    "    remove_number_from_small_box(small_box)\n",
    "    \n",
    "print(big_box[0][0:3], '|',big_box[1][0:3], '|', big_box[2][0:3])\n",
    "print(big_box[0][3:6], '|',big_box[1][3:6], '|', big_box[2][3:6])\n",
    "print(big_box[0][6:9], '|',big_box[1][6:9], '|', big_box[2][6:9])\n",
    "print('---------------------------------')\n",
    "print(big_box[3][0:3], '|',big_box[4][0:3], '|', big_box[5][0:3])\n",
    "print(big_box[3][3:6], '|',big_box[4][3:6], '|', big_box[5][6:9])\n",
    "print(big_box[3][6:9], '|',big_box[4][6:9], '|', big_box[5][6:9])\n",
    "print('---------------------------------')\n",
    "print(big_box[6][0:3], '|',big_box[7][0:3], '|', big_box[8][0:3])\n",
    "print(big_box[6][3:6], '|',big_box[7][3:6], '|', big_box[8][6:9])\n",
    "print(big_box[6][6:9], '|',big_box[7][6:9], '|', big_box[8][6:9])\n",
    "    \n",
    "\n",
    "\n"
   ]
  },
  {
   "cell_type": "code",
   "execution_count": null,
   "metadata": {},
   "outputs": [],
   "source": []
  }
 ],
 "metadata": {
  "kernelspec": {
   "display_name": "Python 3.12",
   "language": "python",
   "name": "python312"
  },
  "language_info": {
   "codemirror_mode": {
    "name": "ipython",
    "version": 3
   },
   "file_extension": ".py",
   "mimetype": "text/x-python",
   "name": "python",
   "nbconvert_exporter": "python",
   "pygments_lexer": "ipython3",
   "version": "3.12.2"
  }
 },
 "nbformat": 4,
 "nbformat_minor": 4
}
